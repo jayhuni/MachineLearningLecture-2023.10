{
 "cells": [
  {
   "cell_type": "code",
   "execution_count": 5,
   "metadata": {},
   "outputs": [],
   "source": [
    "import os, bardapi"
   ]
  },
  {
   "cell_type": "code",
   "execution_count": 6,
   "metadata": {},
   "outputs": [],
   "source": [
    "with open('keys/bardApiKey.txt') as file:\n",
    "    bard_key = file.read()\n",
    "os.environ['_BARD_API_KEY'] = bard_key"
   ]
  },
  {
   "cell_type": "code",
   "execution_count": 7,
   "metadata": {},
   "outputs": [
    {
     "data": {
      "text/plain": [
       "{'content': '오늘은 2023년 10월 20일입니다. 서울의 현재 시간은 2023년 10월 20일 12시 23분입니다. 현재 서울의 기온은 14도이며, 하늘은 흐립니다. 오늘 서울의 최고 기온은 20도, 최저 기온은 10도입니다. 강수 확률은 0%입니다.\\n\\n구체적인 날씨 예보는 다음과 같습니다.\\n\\n* 오전: 흐림, 기온 14도\\n* 오후: 흐림, 기온 20도\\n* 저녁: 흐림, 기온 10도\\n* 밤: 흐림, 기온 6도\\n\\n옷차림은 가벼운 옷차림으로 준비하시면 좋습니다.\\n\\n**기타 정보**\\n\\n* 바람: 남서풍 5~10km/h\\n* 습도: 70~80%\\n* 일조량: 10시간\\n\\n즐거운 하루 보내세요!',\n",
       " 'conversation_id': 'c_4aff0795906ba821',\n",
       " 'response_id': 'r_4aff0795906baece',\n",
       " 'factuality_queries': None,\n",
       " 'text_query': ['2023년 10월 20일 서울 날씨', 1],\n",
       " 'choices': [{'id': 'rc_4aff0795906ba02f',\n",
       "   'content': ['오늘은 2023년 10월 20일입니다. 서울의 현재 시간은 2023년 10월 20일 12시 23분입니다. 현재 서울의 기온은 14도이며, 하늘은 흐립니다. 오늘 서울의 최고 기온은 20도, 최저 기온은 10도입니다. 강수 확률은 0%입니다.\\n\\n구체적인 날씨 예보는 다음과 같습니다.\\n\\n* 오전: 흐림, 기온 14도\\n* 오후: 흐림, 기온 20도\\n* 저녁: 흐림, 기온 10도\\n* 밤: 흐림, 기온 6도\\n\\n옷차림은 가벼운 옷차림으로 준비하시면 좋습니다.\\n\\n**기타 정보**\\n\\n* 바람: 남서풍 5~10km/h\\n* 습도: 70~80%\\n* 일조량: 10시간\\n\\n즐거운 하루 보내세요!']},\n",
       "  {'id': 'rc_4aff0795906ba6dc',\n",
       "   'content': ['오늘 서울의 날씨는 맑고 건조합니다. 오전에는 구름이 조금 끼지만 오후부터는 맑아질 것으로 예상됩니다. 최고 기온은 14도, 최저 기온은 7도입니다. 바람은 남동풍으로 약간 불겠습니다.\\r\\n\\r\\n현재 서울의 시간은 2023년 10월 20일 12시 23분입니다. 현재 기온은 12도입니다.\\r\\n\\r\\n**세부 날씨 정보**\\r\\n\\r\\n* 오전: 구름 조금, 최고 기온 14도\\r\\n* 오후: 맑음, 최고 기온 14도\\r\\n* 저녁: 맑음, 최저 기온 7도\\r\\n* 밤: 맑음, 최저 기온 7도\\r\\n\\r\\n**주의 사항**\\r\\n\\r\\n* 아침에 출근길에는 쌀쌀할 수 있으니 따뜻하게 입으세요.\\r\\n* 저녁에는 선선할 수 있으니 감기 조심하세요.\\r\\n\\r\\n오늘 하루도 건강하고 행복한 하루 보내세요!']},\n",
       "  {'id': 'rc_4aff0795906bad89',\n",
       "   'content': ['오늘은 2023년 10월 20일입니다. 서울의 현재 시각은 12:23 PST입니다.\\n\\n오늘 서울의 날씨는 구름이 많고 흐림입니다. 기온은 낮에는 13도, 밤에는 5도로 예상됩니다. 바람은 약간 불고 습도는 높습니다.\\n\\n아침에는 가벼운 비가 내릴 수도 있습니다.\\n\\n자세한 날씨 예보는 다음과 같습니다.\\n\\n* 오전: 구름이 많고 흐림, 가벼운 비 (기온 13도, 습도 70%)\\n* 오후: 구름이 많고 흐림, 비 가능성 낮음 (기온 15도, 습도 75%)\\n* 저녁: 구름이 많고 흐림, 기온 10도, 습도 80%)\\n* 밤: 구름이 많고 흐림, 기온 5도, 습도 90%)\\n\\n옷차림은 가볍게 하고, 우산을 준비하는 것이 좋습니다.']}],\n",
       " 'links': [],\n",
       " 'images': [],\n",
       " 'program_lang': None,\n",
       " 'code': None,\n",
       " 'status_code': 200}"
      ]
     },
     "execution_count": 7,
     "metadata": {},
     "output_type": "execute_result"
    }
   ],
   "source": [
    "user_input = '오늘 날씨를 알려주세요.'\n",
    "response = bardapi.core.Bard().get_answer(user_input)\n",
    "response"
   ]
  },
  {
   "cell_type": "code",
   "execution_count": null,
   "metadata": {},
   "outputs": [],
   "source": []
  }
 ],
 "metadata": {
  "kernelspec": {
   "display_name": "base",
   "language": "python",
   "name": "python3"
  },
  "language_info": {
   "codemirror_mode": {
    "name": "ipython",
    "version": 3
   },
   "file_extension": ".py",
   "mimetype": "text/x-python",
   "name": "python",
   "nbconvert_exporter": "python",
   "pygments_lexer": "ipython3",
   "version": "3.11.4"
  }
 },
 "nbformat": 4,
 "nbformat_minor": 2
}
