{
 "cells": [
  {
   "cell_type": "code",
   "execution_count": 2,
   "metadata": {},
   "outputs": [],
   "source": [
    "import time\n",
    "from selenium import webdriver\n",
    "from selenium.webdriver.common.by import By\n",
    "from bs4 import BeautifulSoup\n",
    "from urllib.parse import quote\n",
    "from tqdm import tqdm"
   ]
  },
  {
   "cell_type": "code",
   "execution_count": 123,
   "metadata": {},
   "outputs": [
    {
     "name": "stderr",
     "output_type": "stream",
     "text": [
      "The chromedriver version (117.0.5938.88) detected in PATH at C:\\Users\\human\\Downloads\\chromedriver-win64\\chromedriver.exe might not be compatible with the detected chrome version (118.0.5993.88); currently, chromedriver 118.0.5993.70 is recommended for chrome 118.*, so it is advised to delete the driver in PATH and retry\n"
     ]
    }
   ],
   "source": [
    "url = f'https://kin.naver.com/search/list.naver?query={quote(\"부동산 월세\")}&page=1'\n",
    "driver = webdriver.Chrome()\n",
    "driver.get(url)\n",
    "soup = BeautifulSoup(driver.page_source, 'html.parser')\n",
    "time.sleep(3)"
   ]
  },
  {
   "cell_type": "code",
   "execution_count": 124,
   "metadata": {},
   "outputs": [
    {
     "data": {
      "text/plain": [
       "10"
      ]
     },
     "execution_count": 124,
     "metadata": {},
     "output_type": "execute_result"
    }
   ],
   "source": [
    "lis = soup.select('.basic1 > li')\n",
    "len(lis)"
   ]
  },
  {
   "cell_type": "code",
   "execution_count": 125,
   "metadata": {},
   "outputs": [
    {
     "data": {
      "text/plain": [
       "'https://kin.naver.com/qna/detail.naver?d1id=4&dirId=4020202&docId=455157346&qb=67aA64+Z7IKwIOyblOyEuA==&enc=utf8&section=kin&rank=7&search_sort=0&spq=0'"
      ]
     },
     "execution_count": 125,
     "metadata": {},
     "output_type": "execute_result"
    }
   ],
   "source": [
    "li = lis[6]\n",
    "sub_url = li.select_one('a._searchListTitleAnchor')['href']\n",
    "sub_url"
   ]
  },
  {
   "cell_type": "code",
   "execution_count": 126,
   "metadata": {},
   "outputs": [],
   "source": [
    "driver.get(sub_url)\n",
    "time.sleep(2)"
   ]
  },
  {
   "cell_type": "code",
   "execution_count": 127,
   "metadata": {},
   "outputs": [
    {
     "data": {
      "text/plain": [
       "(1, 5)"
      ]
     },
     "execution_count": 127,
     "metadata": {},
     "output_type": "execute_result"
    }
   ],
   "source": [
    "sub_soup = BeautifulSoup(driver.page_source, 'html.parser')\n",
    "questions = sub_soup.select('#content > div.question-content > div > div.c-heading._questionContentsArea.c-heading--default-old > div.c-heading__content')\n",
    "divs = sub_soup.select('.answer-content__list._answerList > div')\n",
    "len(questions),len(divs)"
   ]
  },
  {
   "cell_type": "code",
   "execution_count": 128,
   "metadata": {},
   "outputs": [
    {
     "name": "stdout",
     "output_type": "stream",
     "text": [
      "2022년 5월달에 강남에 빌라에 5000에 170 월세집에 들어갔습니다 부동산 광고를 보고 부동산에가서 집을 보고 1년계약으로 한다고 하고 부동산 중계인소개로 계약하는날 집주인이 오셨습니다 계약서 작성을 하는데 집주인이 2년계약 이라고 말을 바꾸셔서 그럼 안하겠다고 하니 중계인이 그럼 일단 계약서는 2년으로 하고 1년 살다가 자신한테 말하면 세입자 구해서 바로 빼주겠다고 하고 집주인도 그렇게 하라고 하고 전입신고도 하지말고 무슨 세금 내야한다고 벌금 자기가 내겠다고해서 그말 믿고 2년계약 했습니다 1년후 다른집을구해 1억에 320짜리 집을 계약해서 이사을했습니다 5월부터 부동산에말해서 집을 빼달라고 하니 알겠다고 말만 하고 지금 9월까지 집두번 보러 왔습니다 계약은 물론 안됬구요 집은 비어있고 월세만 보증금에서 까고있는데 부동산은 집을 뺄생각이 없는거같은데 이건 어떻게 할수 없는 부분인가요? 지금집 월세 320에 170 이렇게 월세가 이중으로 490이 나가고 잇는 상태입니다 부동산은 나몰라라 집주인도 나몰라라 하는데 방법이 제가 세입자를 구해야하는 법 밖에 없나요??\thu\n"
     ]
    }
   ],
   "source": [
    "answer = ''\n",
    "for p in questions:\n",
    "    text = p.get_text().strip()\n",
    "    if text == '\\u200b' or text == '':\n",
    "        continue\n",
    "    answer += text\n",
    "print(answer + '\\t' + 'hu')"
   ]
  },
  {
   "cell_type": "code",
   "execution_count": 129,
   "metadata": {},
   "outputs": [
    {
     "data": {
      "text/plain": [
       "22"
      ]
     },
     "execution_count": 129,
     "metadata": {},
     "output_type": "execute_result"
    }
   ],
   "source": [
    "div = divs[0]\n",
    "ps = div.select('.se-text-paragraph.se-text-paragraph-align-')\n",
    "len(ps)"
   ]
  },
  {
   "cell_type": "code",
   "execution_count": 130,
   "metadata": {},
   "outputs": [
    {
     "name": "stdout",
     "output_type": "stream",
     "text": [
      "중도퇴실은 빨리 보증금 반환 받고 싶으면여러 부동산에 의뢰하고 새로운 세입자 빨리 구하는게 제일 좋습니다.계약기간이 있는 이유는​계약기간 만기 까지 임대인은 전세, 월세를 받을 권리가 있고보증금 반환의 의무가 없으며​임차인은 거주를 할 권리가 있습니다.하지만 계약기간 만기 전 퇴실은임대인이 중도퇴실에 대해 동의하고기존임차인이 새로운 세입자구하고 중개수수료까지 부담하면 가능합니다.아니면 계약기간동안 월세, 전세, 관리비 내면서 지내야 되구요빨리 보증금 반환 받고 싶으면 여러 부동산에 의뢰하고 새로운 세입자 빨리 구하는게 제일 좋습니다.\n"
     ]
    }
   ],
   "source": [
    "answer = ''\n",
    "for p in ps:\n",
    "    text = p.get_text().strip()\n",
    "    if text == '\\u200b' or text == '':\n",
    "        continue\n",
    "    answer += text\n",
    "print(answer)"
   ]
  },
  {
   "cell_type": "code",
   "execution_count": 7,
   "metadata": {},
   "outputs": [
    {
     "name": "stderr",
     "output_type": "stream",
     "text": [
      "The chromedriver version (117.0.5938.88) detected in PATH at C:\\Users\\human\\Downloads\\chromedriver-win64\\chromedriver.exe might not be compatible with the detected chrome version (118.0.5993.88); currently, chromedriver 118.0.5993.70 is recommended for chrome 118.*, so it is advised to delete the driver in PATH and retry\n"
     ]
    },
    {
     "name": "stdout",
     "output_type": "stream",
     "text": [
      "\n"
     ]
    },
    {
     "ename": "NoSuchWindowException",
     "evalue": "Message: no such window: target window already closed\nfrom unknown error: web view not found\n  (Session info: chrome=118.0.5993.88)\nStacktrace:\n\tGetHandleVerifier [0x00007FF77C3078A2+54818]\n\t(No symbol) [0x00007FF77C276AD2]\n\t(No symbol) [0x00007FF77C12DA3B]\n\t(No symbol) [0x00007FF77C10DEE8]\n\t(No symbol) [0x00007FF77C193237]\n\t(No symbol) [0x00007FF77C1A6C6F]\n\t(No symbol) [0x00007FF77C18E883]\n\t(No symbol) [0x00007FF77C163691]\n\t(No symbol) [0x00007FF77C1648D4]\n\tGetHandleVerifier [0x00007FF77C66B9A2+3610402]\n\tGetHandleVerifier [0x00007FF77C6C1870+3962352]\n\tGetHandleVerifier [0x00007FF77C6B9D5F+3930847]\n\tGetHandleVerifier [0x00007FF77C3A3656+693206]\n\t(No symbol) [0x00007FF77C281638]\n\t(No symbol) [0x00007FF77C27D944]\n\t(No symbol) [0x00007FF77C27DA72]\n\t(No symbol) [0x00007FF77C26E123]\n\tBaseThreadInitThunk [0x00007FFFD4147344+20]\n\tRtlUserThreadStart [0x00007FFFD52E26B1+33]\n",
     "output_type": "error",
     "traceback": [
      "\u001b[1;31m---------------------------------------------------------------------------\u001b[0m",
      "\u001b[1;31mNoSuchWindowException\u001b[0m                     Traceback (most recent call last)",
      "\u001b[1;32md:\\WorkSpace\\99.챗봇프로젝트\\01.월세 copy 4.ipynb 셀 10\u001b[0m line \u001b[0;36m1\n\u001b[0;32m     <a href='vscode-notebook-cell:/d%3A/WorkSpace/99.%EC%B1%97%EB%B4%87%ED%94%84%EB%A1%9C%EC%A0%9D%ED%8A%B8/01.%EC%9B%94%EC%84%B8%20copy%204.ipynb#X31sZmlsZQ%3D%3D?line=11'>12</a>\u001b[0m driver\u001b[39m.\u001b[39mget(sub_url)\n\u001b[0;32m     <a href='vscode-notebook-cell:/d%3A/WorkSpace/99.%EC%B1%97%EB%B4%87%ED%94%84%EB%A1%9C%EC%A0%9D%ED%8A%B8/01.%EC%9B%94%EC%84%B8%20copy%204.ipynb#X31sZmlsZQ%3D%3D?line=12'>13</a>\u001b[0m time\u001b[39m.\u001b[39msleep(\u001b[39m2\u001b[39m)\n\u001b[1;32m---> <a href='vscode-notebook-cell:/d%3A/WorkSpace/99.%EC%B1%97%EB%B4%87%ED%94%84%EB%A1%9C%EC%A0%9D%ED%8A%B8/01.%EC%9B%94%EC%84%B8%20copy%204.ipynb#X31sZmlsZQ%3D%3D?line=14'>15</a>\u001b[0m sub_soup \u001b[39m=\u001b[39m BeautifulSoup(driver\u001b[39m.\u001b[39mpage_source, \u001b[39m'\u001b[39m\u001b[39mhtml.parser\u001b[39m\u001b[39m'\u001b[39m)\n\u001b[0;32m     <a href='vscode-notebook-cell:/d%3A/WorkSpace/99.%EC%B1%97%EB%B4%87%ED%94%84%EB%A1%9C%EC%A0%9D%ED%8A%B8/01.%EC%9B%94%EC%84%B8%20copy%204.ipynb#X31sZmlsZQ%3D%3D?line=15'>16</a>\u001b[0m questions \u001b[39m=\u001b[39m sub_soup\u001b[39m.\u001b[39mselect(\u001b[39m'\u001b[39m\u001b[39m#content > div.question-content > div > div.c-heading._questionContentsArea.c-heading--default-old > div.c-heading__content\u001b[39m\u001b[39m'\u001b[39m)\n\u001b[0;32m     <a href='vscode-notebook-cell:/d%3A/WorkSpace/99.%EC%B1%97%EB%B4%87%ED%94%84%EB%A1%9C%EC%A0%9D%ED%8A%B8/01.%EC%9B%94%EC%84%B8%20copy%204.ipynb#X31sZmlsZQ%3D%3D?line=16'>17</a>\u001b[0m divs \u001b[39m=\u001b[39m sub_soup\u001b[39m.\u001b[39mselect(\u001b[39m'\u001b[39m\u001b[39m.answer-content__list._answerList > div\u001b[39m\u001b[39m'\u001b[39m)\n",
      "File \u001b[1;32mc:\\Users\\human\\anaconda3\\Lib\\site-packages\\selenium\\webdriver\\remote\\webdriver.py:445\u001b[0m, in \u001b[0;36mWebDriver.page_source\u001b[1;34m(self)\u001b[0m\n\u001b[0;32m    436\u001b[0m \u001b[39m@property\u001b[39m\n\u001b[0;32m    437\u001b[0m \u001b[39mdef\u001b[39;00m \u001b[39mpage_source\u001b[39m(\u001b[39mself\u001b[39m) \u001b[39m-\u001b[39m\u001b[39m>\u001b[39m \u001b[39mstr\u001b[39m:\n\u001b[0;32m    438\u001b[0m \u001b[39m    \u001b[39m\u001b[39m\"\"\"Gets the source of the current page.\u001b[39;00m\n\u001b[0;32m    439\u001b[0m \n\u001b[0;32m    440\u001b[0m \u001b[39m    :Usage:\u001b[39;00m\n\u001b[1;32m   (...)\u001b[0m\n\u001b[0;32m    443\u001b[0m \u001b[39m            driver.page_source\u001b[39;00m\n\u001b[0;32m    444\u001b[0m \u001b[39m    \"\"\"\u001b[39;00m\n\u001b[1;32m--> 445\u001b[0m     \u001b[39mreturn\u001b[39;00m \u001b[39mself\u001b[39m\u001b[39m.\u001b[39mexecute(Command\u001b[39m.\u001b[39mGET_PAGE_SOURCE)[\u001b[39m\"\u001b[39m\u001b[39mvalue\u001b[39m\u001b[39m\"\u001b[39m]\n",
      "File \u001b[1;32mc:\\Users\\human\\anaconda3\\Lib\\site-packages\\selenium\\webdriver\\remote\\webdriver.py:344\u001b[0m, in \u001b[0;36mWebDriver.execute\u001b[1;34m(self, driver_command, params)\u001b[0m\n\u001b[0;32m    342\u001b[0m response \u001b[39m=\u001b[39m \u001b[39mself\u001b[39m\u001b[39m.\u001b[39mcommand_executor\u001b[39m.\u001b[39mexecute(driver_command, params)\n\u001b[0;32m    343\u001b[0m \u001b[39mif\u001b[39;00m response:\n\u001b[1;32m--> 344\u001b[0m     \u001b[39mself\u001b[39m\u001b[39m.\u001b[39merror_handler\u001b[39m.\u001b[39mcheck_response(response)\n\u001b[0;32m    345\u001b[0m     response[\u001b[39m\"\u001b[39m\u001b[39mvalue\u001b[39m\u001b[39m\"\u001b[39m] \u001b[39m=\u001b[39m \u001b[39mself\u001b[39m\u001b[39m.\u001b[39m_unwrap_value(response\u001b[39m.\u001b[39mget(\u001b[39m\"\u001b[39m\u001b[39mvalue\u001b[39m\u001b[39m\"\u001b[39m, \u001b[39mNone\u001b[39;00m))\n\u001b[0;32m    346\u001b[0m     \u001b[39mreturn\u001b[39;00m response\n",
      "File \u001b[1;32mc:\\Users\\human\\anaconda3\\Lib\\site-packages\\selenium\\webdriver\\remote\\errorhandler.py:229\u001b[0m, in \u001b[0;36mErrorHandler.check_response\u001b[1;34m(self, response)\u001b[0m\n\u001b[0;32m    227\u001b[0m         alert_text \u001b[39m=\u001b[39m value[\u001b[39m\"\u001b[39m\u001b[39malert\u001b[39m\u001b[39m\"\u001b[39m]\u001b[39m.\u001b[39mget(\u001b[39m\"\u001b[39m\u001b[39mtext\u001b[39m\u001b[39m\"\u001b[39m)\n\u001b[0;32m    228\u001b[0m     \u001b[39mraise\u001b[39;00m exception_class(message, screen, stacktrace, alert_text)  \u001b[39m# type: ignore[call-arg]  # mypy is not smart enough here\u001b[39;00m\n\u001b[1;32m--> 229\u001b[0m \u001b[39mraise\u001b[39;00m exception_class(message, screen, stacktrace)\n",
      "\u001b[1;31mNoSuchWindowException\u001b[0m: Message: no such window: target window already closed\nfrom unknown error: web view not found\n  (Session info: chrome=118.0.5993.88)\nStacktrace:\n\tGetHandleVerifier [0x00007FF77C3078A2+54818]\n\t(No symbol) [0x00007FF77C276AD2]\n\t(No symbol) [0x00007FF77C12DA3B]\n\t(No symbol) [0x00007FF77C10DEE8]\n\t(No symbol) [0x00007FF77C193237]\n\t(No symbol) [0x00007FF77C1A6C6F]\n\t(No symbol) [0x00007FF77C18E883]\n\t(No symbol) [0x00007FF77C163691]\n\t(No symbol) [0x00007FF77C1648D4]\n\tGetHandleVerifier [0x00007FF77C66B9A2+3610402]\n\tGetHandleVerifier [0x00007FF77C6C1870+3962352]\n\tGetHandleVerifier [0x00007FF77C6B9D5F+3930847]\n\tGetHandleVerifier [0x00007FF77C3A3656+693206]\n\t(No symbol) [0x00007FF77C281638]\n\t(No symbol) [0x00007FF77C27D944]\n\t(No symbol) [0x00007FF77C27DA72]\n\t(No symbol) [0x00007FF77C26E123]\n\tBaseThreadInitThunk [0x00007FFFD4147344+20]\n\tRtlUserThreadStart [0x00007FFFD52E26B1+33]\n"
     ]
    }
   ],
   "source": [
    "data_list = []\n",
    "driver = webdriver.Chrome()\n",
    "for page in range(1, 31):\n",
    "    url = f'https://kin.naver.com/search/list.naver?query={quote(\"부동산 월세\")}&page={page}'\n",
    "    driver.get(url)\n",
    "    time.sleep(3)\n",
    "    soup = BeautifulSoup(driver.page_source, 'html.parser')\n",
    "    lis = soup.select('.basic1 > li')\n",
    "\n",
    "    for li in lis:\n",
    "        sub_url = li.select_one('a._searchListTitleAnchor')['href']\n",
    "        driver.get(sub_url)\n",
    "        time.sleep(2)\n",
    "\n",
    "        sub_soup = BeautifulSoup(driver.page_source, 'html.parser')\n",
    "        questions = sub_soup.select('#content > div.question-content > div > div.c-heading._questionContentsArea.c-heading--default-old > div.c-heading__content')\n",
    "        divs = sub_soup.select('.answer-content__list._answerList > div')\n",
    "        \n",
    "        answer = ''\n",
    "        for p in questions:\n",
    "            text = p.get_text().strip()\n",
    "            if text == '\\u200b' or text == '':\n",
    "                continue\n",
    "            answer += text\n",
    "        div = divs[0]\n",
    "        ps = div.select('.se-text-paragraph.se-text-paragraph-align-')\n",
    "        answer1 = ''\n",
    "        for p in ps:\n",
    "            text = p.get_text().strip()\n",
    "            if text == '\\u200b' or text == '':\n",
    "                continue\n",
    "            answer += text\n",
    "        data_list.append(answer + answer1)\n",
    "\n",
    "\n",
    "        driver.back()\n",
    "        time.sleep(2)\n",
    "    print()\n",
    "\n",
    "driver.close()"
   ]
  },
  {
   "cell_type": "code",
   "execution_count": 5,
   "metadata": {},
   "outputs": [
    {
     "data": {
      "text/plain": [
       "['안녕하세요?신탁 오피스텔 임대차 계약(보증금 5천만원, 월세 30만원)을\\xa0하려고 합니다. 수탁자 부동산 임대차 승낙서와 우선수익자 사전동의서를 받아놓으면 추후 문제가 발생하여 경매진행시신탁원부에\\xa0 우선수익권자(은행)가 있어도 임대보증금을 우선하여 반환 받을 수 있는지 궁금합니다.안녕하세요. 서울지방변호사회 소속으로 지식iN 법률상담을 진행하고 있는 정종욱 변호사입니다.신탁등기된 부동산은 그렇지 않은 부동산보다 권리관계가 복잡한 편이기 때문이 임대차 계약을 체결하실 때 각별한 주의를 기울이셔야 합니다. 일반적인 임대차 계약 관계는 임대인, 임차인이 당사자가 되는데, 신탁등기가 설정된 임대차 계약의 경우에는 위탁자, 수탁자, 수익자, 임차인이 당사자가 됩니다. 수탁자(일반적으로 신탁회사)가 아닌 위탁자와 임대차 계약을 체결하면 임대차 계약의 효력 자체가 부정될 수 있습니다.이 경우 당연히 우선변제권이나 최우선변제권을 주장할 수 없습니다. 보통 신탁회사의 동의를 받는데 신탁회사의 동의를 받는다고 해서 보증금이 보호되는 것은 아닙니다. 최근 신탁등기를 악용한 전세사기가 기승을 부리고 있는데 이에 해당사항이 없는지 검토해보시는 것도 필요해보입니다. 문의하신 사안의 경우 제공된 정보의 제한으로 보다 구체적인 상담을 하는데 어려움이 있습니다. 보다 자세한 상담은 관련자료를 지참해 전문 변호사와 상담을 진행해보시는 것이 좋습니다.참고하실만한 글을 소개해드립니다. 신탁 등기된 부동산 임대차 계약 체결시 주의사항, 신탁 등기 전세사기 사건에서 보증금반환 받는 방법에 관해서는 아래 글을 참고하시면 도움이 되실 것입니다.',\n",
       " \"안녕하세요저는 집주인이고, 월세 계약을 체결했습니다.현재 기준, 입주 약 1개월 전 상황이고, 계약금 500만원을 받고 계약서 썼습니다.(가계약 아님, 정식 계약)그리고, 조금 전 임차인으로부터 계약을 파기하겠다는 연락을 받았습니다. 문제는, 계약금 500만원을 포기하는 것이 아니라 보증금(3,000만원)의 10%인 300만원만 포기하고 200만원은 돌려달라고 합니다.이유는 판례상 10%가 일반적이라는 건데,계약서상에는 임대인은 계약파기시 계약금 배액배상,임차인은 계약금을 포기한다고 정확히 명시했습니다.제가(임대인) 계약을 파기했으면 배액배상을 해달라고 요구했을 것으로 예상되는데,이제와서 판례를 얘기하며 10%이상은 인정못한다고 하는게 이해가 되지 않습니다.이런 경우, 계약금 총액(500만원)을 반납하지 않아도되는게 맞는지 문의드립니다.추가로, 계약 파기시 향후 절차도 문의드립니다.(다른 세입자와의 계약진행을 위해 기존 계약을 명확하게 해지/파기하는 절차)안녕하세요. 고양 일산 파주 김포, 부동산 월세 계약 파기, 계약금 반환 문의, 율민 부동산 전문 변호사입니다.● 계약서상 임차인이 계약파기시 계약금을 손해배상액으로 정하고 이를 몰취한다는 취지의 규정이 있다면 계약서에 명시된 대로 해당 계약금이 손해배상액의 예정으로 인정됩니다만, 사건화 되어 민사재판을 하게 되는 경우에는 민법 제398조 제2항에 따라 재판부가 적당한 금액으로 '감액'할 수는 있습니다. 이러한 점 고려하여 적정한 금액으로 합의보시는 것도 좋은 방법입니다.제398조(배상액의 예정) ①당사자는 채무불이행에 관한 손해배상액을 예정할 수 있다.②손해배상의 예정액이 부당히 과다한 경우에는 법원은 적당히 감액할 수 있다.③손해배상액의 예정은 이행의 청구나 계약의 해제에 영향을 미치지 아니한다.④위약금의 약정은 손해배상액의 예정으로 추정한다.⑤당사자가 금전이 아닌 것으로써 손해의 배상에 충당할 것을 예정한 경우에도 전4항의 규정을 준용한다.● 확실히 계약파기를 하는 방법은 일단 임차인의 계약포기 의사가 명확히 담긴 증거방법을 확보하시고 (문자, 카톡, 전화통화 녹음 등 방법 무관), 임대인에게 내용증명 등의 방법으로  계약 파기 요청에 따라 해당 임대차계약은 효력이 없고 계약금은 손해배상으로 몰취하겠다는 뜻을 명확히 표시하시면 됩니다.위 답변은 실제 구체적인 사실관계를 기초로 한 상담을 거치지  않은 일반적 답변이므로온라인 상담의 한계상 단순 참조만 하시기 바랍니다. 감사합니다.고양지원앞 법률사무소 율민, 부동산 전문 변호사 이재호, 김광웅 드림.\",\n",
       " '오피스텔 주인으로서 월세 다른사람 한테 월세 받고 잇는 상황인데 세입자가 계약후 퇴거시블라인드 얼룩자국 오염,벽지 500원 크기보다크게 찢어짐,신발장 가구 물뭍어서 부풀어 오른것처럼 기포 발생 파손,싱크대 윗칸 서랍 가구 긁힘이렇게 많이 집이 손상 되었는데 손해배상 해당 안되는게 어느부분인가요 다 손해배상 받아야 하는게 맞죠?부동산 측에서는 세입자랑 알아서 얘기 하라는것 같이 말하는데 어떻게 해야하나요세입자한테 원상 복구 해놓으라고 했는데 다고쳤다고 해서 갓더니 그대로네요 어떤 절차를 밟아야 하나요참고로 새건물 첫 분양으로 다 새건물인데 이렇네요세입자는 오늘부로 계약기간 만료로 나갓고파손된체 오늘 부동산 중개사가 파손된 사진 보내서 알게 됫어요 책임은 안지고 세입자한테 계약금 보내라고 하는데 계약기간 만료 오늘이지만 손상된거 다고 치고 나가야줘야되는거 아닙니까 어떻게 해야되요?도와주세요세입자의 과실이면 원상복구의 책임이 있습니다.이런 경우 인테리어 업체에서 견적을 받아 보증금에서 일부 차감하고 반환 하거나 보증금을 반환한후 수리를 하고 수리비를 소장을 통해 청구 할수도 있습니다',\n",
       " '월세 계약 2년은 지났고\\xa0 처음 계약서 작성할 때 특약사항에\"계약기간 1년지난 후 같은조건(계약기간1년)으로 자동갱신 하기로한다.\"라는 사항을 적었으면 법적효력이있는건가요?동네 부동산가니 이건 효력이없다고는 하는데 정확히 알고싶습니다.만약 효력이없다고하면 어딜방문해서 상담받고 신청해야하나요 알려주세요답변부탁드립니다...안녕하세요. 서울지방변호사회 소속으로 지식iN 법률상담을 진행하고 있는 정동운 변호사입니다.주택임대차보호법상 임대차 기간을 1년으로 정하였다고 하더라도 임차인은 2년을 주장할 수 있습니다.또한 갱신된 계약의 경우, 계약 종료일 이전 6개월부터 2개월 전까지 계약갱신요구권을 행사할지 여부를 통보할 수 있습니다.즉 1년 후 자동갱신 조항은 임차인의 갱신요구권 또는 계약 종료할 수 있는 권한을 침해하므로 법적 효력이 없습니다(즉 주택임대차보호법상 편면적 강행규정에 위반됩니다)이상과 같이 답변 드립니다.감사합니다.변호사 정 동 운 올림.',\n",
       " '전입신고 안한 오피스텔 거주중입니다10월이 2년만기인데 월세 55만원을 내고 거주중에 있습니다.부동산쪽에서 집주인이 70만원으로 올리길 원하고 70만원으로 거래가 안될시 퇴거요청을 한다고 합니다.제가 알기로는 5%이상 인상은 안되는걸로 알아서 부동산에 얘기를했더니 안올려주면 집주인이 퇴거를 하길 원한다고 말하더라구요.이런경우엔 제가 70만원으로 올리구 거주를 해야하는지 만약에 안올린다면 제가 나가야하는지 전문적인 변호사분들의 조언을 듣고싶습니다.부동산 사장님도 집주인 편인지 제얘기는 들어주시지도 않는데 답답합니다.조언구해요~ 관련태그: 소송/집행절차, 손해배상, 임대차',\n",
       " '안녕하세요. 내일 부동산 월세 계약을 하려고 하는데요.미리 등기부등본을 발급 받아봤거든요.등기부등본 상에갑구, 을구를 확인해야한다고 들었고확인 결과갑구 마지막에위 사진처럼 되어있고을구는 기록사항 없다고 나와있습니다.그리고 3명이 1/3씩 지분을 공유하고 있는데이 경우에는 누구와 계약을 해도 무관한건가요?위 내용으로 계약해도 문제 생기지 않는 내용들인가요?안녕하세요. 서울지방변호사회 소속으로 지식iN 법률상담을 진행하고 있는 임성환 변호사입니다.해당 부동산이 공동소유물이라면 공동소유자 전원을 임대인으로 해서 계약을 해야 합니다.각 공유자는 1/3 지분만 소유하고 있는 것이므로, 공유자 중 1인과 계약을 했을 경우에 다른 공유자들과의 관계에서는 불법점유사용이 되어 나가라고 할 수 도 있고, 다른 공유자들의 지분에 해당하는 월세 상당 부당이득을 청구할 수 도 있습니다.따라서 임대차계약서의 임대인 란에 공유자 3인을 모두 기재한 후 서명날인을 받고, 월세 지급방법에 대하여도 공유자 중 1인에게 지급하거나 또는 1/3씩 나누어 각 공유자들에게 지급하는 내용의 특약사항을 기재하시기 바랍니다.등기사항증명서의 갑구에는 소유권에 관한 사항을 기재하는데, 공유자가 누구인지, 가압류, 압류 등 살아있는 기재가 있는지 확인하시기 바랍니다. 질문 주신 압류등기말소는 과거 10번항에 있었던 압류등기가 말소되었다는 것이므로 그 압류는 없어진 것으로 보시면 됩니다.그리고 을구에는 저당권 등 담보물권이 설정된 경우에 기재되는데, 기록사항이 없다고 하면 담보설정된 것이 없다는 것으로 보시면 됩니다.',\n",
       " '2022년 5월달에 강남에 빌라에 5000에 170 월세집에 들어갔습니다 부동산 광고를 보고 부동산에가서 집을 보고 1년계약으로 한다고 하고 부동산 중계인소개로 계약하는날 집주인이 오셨습니다 계약서 작성을 하는데 집주인이 2년계약 이라고 말을 바꾸셔서 그럼 안하겠다고 하니 중계인이 그럼 일단 계약서는 2년으로 하고 1년 살다가 자신한테 말하면 세입자 구해서 바로 빼주겠다고 하고 집주인도 그렇게 하라고 하고 전입신고도 하지말고 무슨 세금 내야한다고 벌금 자기가 내겠다고해서 그말 믿고 2년계약 했습니다 1년후 다른집을구해 1억에 320짜리 집을 계약해서 이사을했습니다 5월부터 부동산에말해서 집을 빼달라고 하니 알겠다고 말만 하고 지금 9월까지 집두번 보러 왔습니다 계약은 물론 안됬구요 집은 비어있고 월세만 보증금에서 까고있는데 부동산은 집을 뺄생각이 없는거같은데 이건 어떻게 할수 없는 부분인가요? 지금집 월세 320에 170 이렇게 월세가 이중으로 490이 나가고 잇는 상태입니다 부동산은 나몰라라 집주인도 나몰라라 하는데 방법이 제가 세입자를 구해야하는 법 밖에 없나요??중도퇴실은 빨리 보증금 반환 받고 싶으면여러 부동산에 의뢰하고 새로운 세입자 빨리 구하는게 제일 좋습니다.계약기간이 있는 이유는\\u200b계약기간 만기 까지 임대인은 전세, 월세를 받을 권리가 있고보증금 반환의 의무가 없으며\\u200b임차인은 거주를 할 권리가 있습니다.하지만 계약기간 만기 전 퇴실은임대인이 중도퇴실에 대해 동의하고기존임차인이 새로운 세입자구하고 중개수수료까지 부담하면 가능합니다.아니면 계약기간동안 월세, 전세, 관리비 내면서 지내야 되구요빨리 보증금 반환 받고 싶으면 여러 부동산에 의뢰하고 새로운 세입자 빨리 구하는게 제일 좋습니다.',\n",
       " '안녕하세요. 오늘 월세 계약서 변경을 하고 왔는데\\xa0변경내용은 계약기간과 임차인 명의 입니다.\\xa0임차인 명의를 변경하기 위해 요청했는데 계약기간도 만료 된 상태라 2년 연장으로 작성하게 되었습니다.여기서 궁금한 점은 처음에 방문했던 부동산은 이사를 가서 없어졌기 때문에 집주인분이 알고 있는\\xa0부동산으로 같이 가서 다시 작성했는데 집에와서 계약서를 다시 보니 맨 밑에 임대인, 임차인, 중개사의\\xa0정보가 있는 칸에서 중개사칸(주소, 명칭, 연락처, 등록번호, 서명 및 날인)이 전부 빈칸인데처음에 작성했던 월세 계약서를 보니까 중개인 도장까지 날인되어 있더라고요.다시 작성한 계약서에 중개인의 정보와 도장이 안찍혀 있어도 전혀 문제 되는 것이 없나요?\\xa0그리고 명의변경해서 계약서를 다시 작성했는데 주민센터에 다시 확정일자를 받으러 가야하나요?(집에 함께 살고 있던 가족끼리 계속 같이 살고 있는 상태로 명의만 변경함.)궁금합니다. 답변 부탁 드려요.1. 계약서만 다시 작성하면 중개한것이 아니기에 중개사칸은 기입하지 않습니다.2.확정일자를 다시 받으셔도 되는데.. 기존에 계약서  폐기하시면 안되고 항상 같이 보관하셔야 합니다.[V]alue [A]dded [C]ommunity---------------------------------------------------질문자의 정보 참조 용도로 활용 가능하며, 관련 공공기관에 확인후 진행하시기 바랍니다.1.상담자의 최종적인 소견을 나타낸 것이 아니며, 답변을 제공한 개인 및 사업자의 법률적 책임이 없음을 알려드립니다.2.시의적,물리적 환경에 따라 변경된 여러가지 이견을 가질 수 있으며, 의학적, 법률적 소견이 상이한 여러 의견을 모두 수렴하지는 않습니다.3.사건의 구체적 사실과 정황등에 따라 해석에 대한 이견이 있을 수 있습니다. 상이한 이견을 모두 수렴하지는 않습니다.4.답변은 질문자가 질의한 내용을 기반으로 한 답변자 소견으로, 답변과 관련하여 답변자나 사업자의 법률적 책임이 없음을 알려드립니다.',\n",
       " '부동산 월세 계약시임차인의 대출 내역도 볼 수 있나요?주택에 담보를 걸어 대출했을경우 잡힌 근저당은 확인 가능하고그 외에 주택과 관련없는 대출은 확인이 어렵습니다.직접 물어보실수 밖에 없지만, 개인정보라 알려줄리가 없죠.',\n",
       " '안녕하세요\\xa0 월세 계약한지 2년 만기가 되어 재연장하려고 하는데 명의를 엄마 명의로 변경하려고 합니다\\xa0부동산에서 집주인과 직접 계약 진행하면 된다고 하는데 계약서 양식을 부동산 월세계약 양식을\\xa0사용해도 될가요 ?네, 부동산 월세 계약 양식을 사용해도 됩니다.오늘도 행복하고 의미 있는 날이길 바랍니당']"
      ]
     },
     "execution_count": 5,
     "metadata": {},
     "output_type": "execute_result"
    }
   ],
   "source": [
    "data_list"
   ]
  },
  {
   "cell_type": "code",
   "execution_count": null,
   "metadata": {},
   "outputs": [],
   "source": []
  }
 ],
 "metadata": {
  "kernelspec": {
   "display_name": "base",
   "language": "python",
   "name": "python3"
  },
  "language_info": {
   "codemirror_mode": {
    "name": "ipython",
    "version": 3
   },
   "file_extension": ".py",
   "mimetype": "text/x-python",
   "name": "python",
   "nbconvert_exporter": "python",
   "pygments_lexer": "ipython3",
   "version": "3.11.4"
  }
 },
 "nbformat": 4,
 "nbformat_minor": 2
}
