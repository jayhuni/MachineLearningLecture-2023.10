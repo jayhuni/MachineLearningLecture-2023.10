{
 "cells": [
  {
   "cell_type": "code",
   "execution_count": 16,
   "metadata": {},
   "outputs": [],
   "source": [
    "import numpy as np\n",
    "import pandas as pd"
   ]
  },
  {
   "cell_type": "code",
   "execution_count": 17,
   "metadata": {},
   "outputs": [
    {
     "data": {
      "text/html": [
       "<div>\n",
       "<style scoped>\n",
       "    .dataframe tbody tr th:only-of-type {\n",
       "        vertical-align: middle;\n",
       "    }\n",
       "\n",
       "    .dataframe tbody tr th {\n",
       "        vertical-align: top;\n",
       "    }\n",
       "\n",
       "    .dataframe thead th {\n",
       "        text-align: right;\n",
       "    }\n",
       "</style>\n",
       "<table border=\"1\" class=\"dataframe\">\n",
       "  <thead>\n",
       "    <tr style=\"text-align: right;\">\n",
       "      <th></th>\n",
       "      <th>Unnamed: 0</th>\n",
       "      <th>구분</th>\n",
       "      <th>질문</th>\n",
       "      <th>답변</th>\n",
       "    </tr>\n",
       "  </thead>\n",
       "  <tbody>\n",
       "    <tr>\n",
       "      <th>0</th>\n",
       "      <td>0</td>\n",
       "      <td>팁</td>\n",
       "      <td>아파트를 매도할때 집 앞에 부동산에만 얘기를 할지동네 부동산에 전부다 얘기를 할지 ...</td>\n",
       "      <td>안녕하세요. 한결같은고양이32입니다.최소3군데가봐야정확한가격이나와요부동산중계소마다조...</td>\n",
       "    </tr>\n",
       "    <tr>\n",
       "      <th>1</th>\n",
       "      <td>1</td>\n",
       "      <td>팁</td>\n",
       "      <td>제꿈이 부동산을 운영하면서 매매도 열심히해드리고 돈도 많이벌고싶은 22살입니다 부동...</td>\n",
       "      <td>안녕하세요. 박어상 공인중개사입니다.부동산을 운영하고 돈을 버는 것은 나이와는 전혀...</td>\n",
       "    </tr>\n",
       "    <tr>\n",
       "      <th>2</th>\n",
       "      <td>2</td>\n",
       "      <td>팁</td>\n",
       "      <td>사정이 좋지않아서 지금 매수세가 없지만 집을 팔아야하네요ㅜㅜ근처부동산에는 전화돌려보...</td>\n",
       "      <td>안녕하세요. 홍성택 공인중개사입니다.지금 부동산시장이 얼어붙었죠.다들 관망중인듯요....</td>\n",
       "    </tr>\n",
       "  </tbody>\n",
       "</table>\n",
       "</div>"
      ],
      "text/plain": [
       "   Unnamed: 0 구분                                                 질문  \\\n",
       "0           0  팁  아파트를 매도할때 집 앞에 부동산에만 얘기를 할지동네 부동산에 전부다 얘기를 할지 ...   \n",
       "1           1  팁  제꿈이 부동산을 운영하면서 매매도 열심히해드리고 돈도 많이벌고싶은 22살입니다 부동...   \n",
       "2           2  팁  사정이 좋지않아서 지금 매수세가 없지만 집을 팔아야하네요ㅜㅜ근처부동산에는 전화돌려보...   \n",
       "\n",
       "                                                  답변  \n",
       "0  안녕하세요. 한결같은고양이32입니다.최소3군데가봐야정확한가격이나와요부동산중계소마다조...  \n",
       "1  안녕하세요. 박어상 공인중개사입니다.부동산을 운영하고 돈을 버는 것은 나이와는 전혀...  \n",
       "2  안녕하세요. 홍성택 공인중개사입니다.지금 부동산시장이 얼어붙었죠.다들 관망중인듯요....  "
      ]
     },
     "execution_count": 17,
     "metadata": {},
     "output_type": "execute_result"
    }
   ],
   "source": [
    "df = pd.read_csv('data/팁309.csv')\n",
    "df.head(3)"
   ]
  },
  {
   "cell_type": "code",
   "execution_count": 18,
   "metadata": {},
   "outputs": [],
   "source": [
    "df.drop(columns=['Unnamed: 0','구분'], inplace=True)"
   ]
  },
  {
   "cell_type": "code",
   "execution_count": 19,
   "metadata": {},
   "outputs": [
    {
     "data": {
      "text/html": [
       "<div>\n",
       "<style scoped>\n",
       "    .dataframe tbody tr th:only-of-type {\n",
       "        vertical-align: middle;\n",
       "    }\n",
       "\n",
       "    .dataframe tbody tr th {\n",
       "        vertical-align: top;\n",
       "    }\n",
       "\n",
       "    .dataframe thead th {\n",
       "        text-align: right;\n",
       "    }\n",
       "</style>\n",
       "<table border=\"1\" class=\"dataframe\">\n",
       "  <thead>\n",
       "    <tr style=\"text-align: right;\">\n",
       "      <th></th>\n",
       "      <th>질문</th>\n",
       "      <th>답변</th>\n",
       "    </tr>\n",
       "  </thead>\n",
       "  <tbody>\n",
       "    <tr>\n",
       "      <th>0</th>\n",
       "      <td>아파트를 매도할때 집 앞에 부동산에만 얘기를 할지동네 부동산에 전부다 얘기를 할지 ...</td>\n",
       "      <td>안녕하세요. 한결같은고양이32입니다.최소3군데가봐야정확한가격이나와요부동산중계소마다조...</td>\n",
       "    </tr>\n",
       "    <tr>\n",
       "      <th>1</th>\n",
       "      <td>제꿈이 부동산을 운영하면서 매매도 열심히해드리고 돈도 많이벌고싶은 22살입니다 부동...</td>\n",
       "      <td>안녕하세요. 박어상 공인중개사입니다.부동산을 운영하고 돈을 버는 것은 나이와는 전혀...</td>\n",
       "    </tr>\n",
       "    <tr>\n",
       "      <th>2</th>\n",
       "      <td>사정이 좋지않아서 지금 매수세가 없지만 집을 팔아야하네요ㅜㅜ근처부동산에는 전화돌려보...</td>\n",
       "      <td>안녕하세요. 홍성택 공인중개사입니다.지금 부동산시장이 얼어붙었죠.다들 관망중인듯요....</td>\n",
       "    </tr>\n",
       "  </tbody>\n",
       "</table>\n",
       "</div>"
      ],
      "text/plain": [
       "                                                  질문  \\\n",
       "0  아파트를 매도할때 집 앞에 부동산에만 얘기를 할지동네 부동산에 전부다 얘기를 할지 ...   \n",
       "1  제꿈이 부동산을 운영하면서 매매도 열심히해드리고 돈도 많이벌고싶은 22살입니다 부동...   \n",
       "2  사정이 좋지않아서 지금 매수세가 없지만 집을 팔아야하네요ㅜㅜ근처부동산에는 전화돌려보...   \n",
       "\n",
       "                                                  답변  \n",
       "0  안녕하세요. 한결같은고양이32입니다.최소3군데가봐야정확한가격이나와요부동산중계소마다조...  \n",
       "1  안녕하세요. 박어상 공인중개사입니다.부동산을 운영하고 돈을 버는 것은 나이와는 전혀...  \n",
       "2  안녕하세요. 홍성택 공인중개사입니다.지금 부동산시장이 얼어붙었죠.다들 관망중인듯요....  "
      ]
     },
     "execution_count": 19,
     "metadata": {},
     "output_type": "execute_result"
    }
   ],
   "source": [
    "df.head(3)"
   ]
  },
  {
   "cell_type": "code",
   "execution_count": 20,
   "metadata": {},
   "outputs": [
    {
     "data": {
      "text/plain": [
       "1"
      ]
     },
     "execution_count": 20,
     "metadata": {},
     "output_type": "execute_result"
    }
   ],
   "source": [
    "# 결측치 확인\n",
    "df.isna().sum().sum()"
   ]
  },
  {
   "cell_type": "code",
   "execution_count": 21,
   "metadata": {},
   "outputs": [
    {
     "data": {
      "text/plain": [
       "0"
      ]
     },
     "execution_count": 21,
     "metadata": {},
     "output_type": "execute_result"
    }
   ],
   "source": [
    "# 결측치 제거\n",
    "df = df.dropna()\n",
    "df.isna().sum().sum()"
   ]
  },
  {
   "cell_type": "code",
   "execution_count": 22,
   "metadata": {},
   "outputs": [
    {
     "data": {
      "text/plain": [
       "((308, 2), 308)"
      ]
     },
     "execution_count": 22,
     "metadata": {},
     "output_type": "execute_result"
    }
   ],
   "source": [
    "# 중복 데이터 확인\n",
    "df.shape, df.답변.nunique()"
   ]
  },
  {
   "cell_type": "code",
   "execution_count": 23,
   "metadata": {},
   "outputs": [],
   "source": [
    "# 한글 이외 데이터 삭제\n",
    "df.답변 = df.답변.str.replace('[^ㄱ-ㅎㅏ-ㅣ가-힣]', ' ', regex=True).str.strip()"
   ]
  },
  {
   "cell_type": "code",
   "execution_count": 24,
   "metadata": {},
   "outputs": [
    {
     "data": {
      "text/plain": [
       "0"
      ]
     },
     "execution_count": 24,
     "metadata": {},
     "output_type": "execute_result"
    }
   ],
   "source": [
    "# '' 제거\n",
    "df.답변.replace('', np.nan, inplace=True)\n",
    "df.답변.isna().sum()"
   ]
  },
  {
   "cell_type": "code",
   "execution_count": 25,
   "metadata": {},
   "outputs": [],
   "source": [
    "df.to_csv('data/아하 전처리완료.tsv', sep='\\t', index=False)"
   ]
  },
  {
   "cell_type": "markdown",
   "metadata": {},
   "source": [
    "- 불용어 처리"
   ]
  },
  {
   "cell_type": "code",
   "execution_count": 26,
   "metadata": {},
   "outputs": [],
   "source": [
    "with open('data/한글불용어100.txt') as st:\n",
    "    lines = st.readlines()\n",
    "stop_words = [line.split('\\t')[0] for line in lines]"
   ]
  },
  {
   "cell_type": "code",
   "execution_count": 27,
   "metadata": {},
   "outputs": [],
   "source": [
    "from konlpy.tag import Okt\n",
    "okt = Okt()"
   ]
  },
  {
   "cell_type": "code",
   "execution_count": 28,
   "metadata": {},
   "outputs": [
    {
     "name": "stderr",
     "output_type": "stream",
     "text": [
      "100%|██████████| 308/308 [00:08<00:00, 34.25it/s] \n"
     ]
    }
   ],
   "source": [
    "from tqdm import tqdm\n",
    "answers = []\n",
    "for 답변 in tqdm(df.답변):\n",
    "    morphs = okt.morphs(답변, stem=True)\n",
    "    clean_morph_review = ' '.join([morph for morph in morphs if morph not in stop_words])\n",
    "    answers.append(clean_morph_review)"
   ]
  },
  {
   "cell_type": "code",
   "execution_count": 29,
   "metadata": {},
   "outputs": [],
   "source": [
    "df['processed'] = answers\n",
    "df.to_csv('data/아하 형태소처리완료.tsv', index=False)"
   ]
  },
  {
   "cell_type": "code",
   "execution_count": null,
   "metadata": {},
   "outputs": [],
   "source": []
  }
 ],
 "metadata": {
  "kernelspec": {
   "display_name": "base",
   "language": "python",
   "name": "python3"
  },
  "language_info": {
   "codemirror_mode": {
    "name": "ipython",
    "version": 3
   },
   "file_extension": ".py",
   "mimetype": "text/x-python",
   "name": "python",
   "nbconvert_exporter": "python",
   "pygments_lexer": "ipython3",
   "version": "3.11.4"
  }
 },
 "nbformat": 4,
 "nbformat_minor": 2
}
