{
 "cells": [
  {
   "cell_type": "code",
   "execution_count": 1,
   "metadata": {},
   "outputs": [],
   "source": [
    "import numpy as np\n",
    "import pandas as pd"
   ]
  },
  {
   "cell_type": "code",
   "execution_count": 2,
   "metadata": {},
   "outputs": [
    {
     "data": {
      "text/html": [
       "<div>\n",
       "<style scoped>\n",
       "    .dataframe tbody tr th:only-of-type {\n",
       "        vertical-align: middle;\n",
       "    }\n",
       "\n",
       "    .dataframe tbody tr th {\n",
       "        vertical-align: top;\n",
       "    }\n",
       "\n",
       "    .dataframe thead th {\n",
       "        text-align: right;\n",
       "    }\n",
       "</style>\n",
       "<table border=\"1\" class=\"dataframe\">\n",
       "  <thead>\n",
       "    <tr style=\"text-align: right;\">\n",
       "      <th></th>\n",
       "      <th>구분</th>\n",
       "      <th>질문</th>\n",
       "      <th>답변</th>\n",
       "      <th>embedding</th>\n",
       "    </tr>\n",
       "  </thead>\n",
       "  <tbody>\n",
       "    <tr>\n",
       "      <th>0</th>\n",
       "      <td>월세</td>\n",
       "      <td>제 상황에 어떤 선택이 좋은지 모르겠어서 질문글 남깁니다.집 컨디션은 비슷한 것 같...</td>\n",
       "      <td>월세가 차라리 더 좋아 보입니다.전체적으로 좀 싸게 들어가면 전세가 좋기는 하지만,...</td>\n",
       "      <td>[-0.63754356, -0.5960052, 0.5261206, -1.097488...</td>\n",
       "    </tr>\n",
       "    <tr>\n",
       "      <th>1</th>\n",
       "      <td>월세</td>\n",
       "      <td>서울 주거 포털에서 청년월세지원을 신청했는데 아직도 심사중이라고 뜹니다 월세지원 못...</td>\n",
       "      <td>결과 발표 11월중 예정이라고 돼 있어요</td>\n",
       "      <td>[-0.580972, -0.23177795, 0.4248164, -0.6200277...</td>\n",
       "    </tr>\n",
       "    <tr>\n",
       "      <th>2</th>\n",
       "      <td>월세</td>\n",
       "      <td>인천 연수구 송도국제도로 123 오네스타 랑 최대한 가까운 곳으로 추천 부탁드립니다...</td>\n",
       "      <td>1.신림동.독산동.신월동.시흥동.가산동 등등 입니다그러나 보통 원룸 월세가 40~4...</td>\n",
       "      <td>[0.18744174, 0.18414854, 0.24230862, -0.493406...</td>\n",
       "    </tr>\n",
       "    <tr>\n",
       "      <th>3</th>\n",
       "      <td>월세</td>\n",
       "      <td>서울월세지원 10번 받아서 끝났는데 또 신청해서 또 받을수 있나요</td>\n",
       "      <td>답변드립니다최대 10개월 지원받고 200만원까지 가능한데 생애 1회만 가능합니다그러...</td>\n",
       "      <td>[-0.5501612, -0.4678361, 0.82305604, -0.490082...</td>\n",
       "    </tr>\n",
       "    <tr>\n",
       "      <th>4</th>\n",
       "      <td>월세</td>\n",
       "      <td>서울시에서 하는 서울 월세지원에 선정되었는데4.5,6,7,8월 금액이 9월 말에 d...</td>\n",
       "      <td>괜찮습니다</td>\n",
       "      <td>[-0.23974398, -0.34466678, 0.14065771, -0.7792...</td>\n",
       "    </tr>\n",
       "  </tbody>\n",
       "</table>\n",
       "</div>"
      ],
      "text/plain": [
       "   구분                                                 질문  \\\n",
       "0  월세  제 상황에 어떤 선택이 좋은지 모르겠어서 질문글 남깁니다.집 컨디션은 비슷한 것 같...   \n",
       "1  월세  서울 주거 포털에서 청년월세지원을 신청했는데 아직도 심사중이라고 뜹니다 월세지원 못...   \n",
       "2  월세  인천 연수구 송도국제도로 123 오네스타 랑 최대한 가까운 곳으로 추천 부탁드립니다...   \n",
       "3  월세               서울월세지원 10번 받아서 끝났는데 또 신청해서 또 받을수 있나요   \n",
       "4  월세  서울시에서 하는 서울 월세지원에 선정되었는데4.5,6,7,8월 금액이 9월 말에 d...   \n",
       "\n",
       "                                                  답변  \\\n",
       "0  월세가 차라리 더 좋아 보입니다.전체적으로 좀 싸게 들어가면 전세가 좋기는 하지만,...   \n",
       "1                             결과 발표 11월중 예정이라고 돼 있어요   \n",
       "2  1.신림동.독산동.신월동.시흥동.가산동 등등 입니다그러나 보통 원룸 월세가 40~4...   \n",
       "3  답변드립니다최대 10개월 지원받고 200만원까지 가능한데 생애 1회만 가능합니다그러...   \n",
       "4                                              괜찮습니다   \n",
       "\n",
       "                                           embedding  \n",
       "0  [-0.63754356, -0.5960052, 0.5261206, -1.097488...  \n",
       "1  [-0.580972, -0.23177795, 0.4248164, -0.6200277...  \n",
       "2  [0.18744174, 0.18414854, 0.24230862, -0.493406...  \n",
       "3  [-0.5501612, -0.4678361, 0.82305604, -0.490082...  \n",
       "4  [-0.23974398, -0.34466678, 0.14065771, -0.7792...  "
      ]
     },
     "execution_count": 2,
     "metadata": {},
     "output_type": "execute_result"
    }
   ],
   "source": [
    "df = pd.read_csv('data/서울월세_dataset.csv')\n",
    "df.head()"
   ]
  },
  {
   "cell_type": "code",
   "execution_count": 3,
   "metadata": {},
   "outputs": [],
   "source": [
    "df.drop(columns=['구분','embedding'], inplace=True)"
   ]
  },
  {
   "cell_type": "markdown",
   "metadata": {},
   "source": [
    "- 데이터 전처리"
   ]
  },
  {
   "cell_type": "code",
   "execution_count": 4,
   "metadata": {},
   "outputs": [
    {
     "data": {
      "text/plain": [
       "0"
      ]
     },
     "execution_count": 4,
     "metadata": {},
     "output_type": "execute_result"
    }
   ],
   "source": [
    "# 결측치 확인\n",
    "df.isna().sum().sum()"
   ]
  },
  {
   "cell_type": "code",
   "execution_count": 5,
   "metadata": {},
   "outputs": [
    {
     "data": {
      "text/plain": [
       "((257, 2), 211)"
      ]
     },
     "execution_count": 5,
     "metadata": {},
     "output_type": "execute_result"
    }
   ],
   "source": [
    "# 중복 데이터 확인\n",
    "df.shape, df.답변.nunique()"
   ]
  },
  {
   "cell_type": "code",
   "execution_count": 6,
   "metadata": {},
   "outputs": [
    {
     "data": {
      "text/plain": [
       "(211, 2)"
      ]
     },
     "execution_count": 6,
     "metadata": {},
     "output_type": "execute_result"
    }
   ],
   "source": [
    "# 중복 데이터 제거\n",
    "df.drop_duplicates(subset=['답변'], inplace=True)\n",
    "df.shape"
   ]
  },
  {
   "cell_type": "code",
   "execution_count": 7,
   "metadata": {},
   "outputs": [],
   "source": [
    "# 한글 이외 데이터 삭제\n",
    "df.답변 = df.답변.str.replace('[^ㄱ-ㅎㅏ-ㅣ가-힣]', ' ', regex=True).str.strip()"
   ]
  },
  {
   "cell_type": "code",
   "execution_count": 8,
   "metadata": {},
   "outputs": [
    {
     "data": {
      "text/plain": [
       "0"
      ]
     },
     "execution_count": 8,
     "metadata": {},
     "output_type": "execute_result"
    }
   ],
   "source": [
    "# '' 제거\n",
    "df.답변.replace('', np.nan, inplace=True)\n",
    "df.답변.isna().sum()"
   ]
  },
  {
   "cell_type": "code",
   "execution_count": 9,
   "metadata": {},
   "outputs": [],
   "source": [
    "df.to_csv('data/서울월세 전처리완료.tsv', sep='\\t', index=False)"
   ]
  },
  {
   "cell_type": "markdown",
   "metadata": {},
   "source": [
    "- 한글 불용어 처리"
   ]
  },
  {
   "cell_type": "code",
   "execution_count": 10,
   "metadata": {},
   "outputs": [],
   "source": [
    "with open('data/한글불용어100.txt') as st:\n",
    "    lines = st.readlines()\n",
    "stop_words = [line.split('\\t')[0] for line in lines]"
   ]
  },
  {
   "cell_type": "code",
   "execution_count": 11,
   "metadata": {},
   "outputs": [],
   "source": [
    "from konlpy.tag import Okt\n",
    "okt = Okt()"
   ]
  },
  {
   "cell_type": "code",
   "execution_count": 12,
   "metadata": {},
   "outputs": [
    {
     "name": "stderr",
     "output_type": "stream",
     "text": [
      "100%|██████████| 211/211 [00:08<00:00, 26.08it/s]\n"
     ]
    }
   ],
   "source": [
    "from tqdm import tqdm\n",
    "answers = []\n",
    "for 답변 in tqdm(df.답변):\n",
    "    morphs = okt.morphs(답변, stem=True)\n",
    "    clean_morph_review = ' '.join([morph for morph in morphs if morph not in stop_words])\n",
    "    answers.append(clean_morph_review)"
   ]
  },
  {
   "cell_type": "code",
   "execution_count": 13,
   "metadata": {},
   "outputs": [],
   "source": [
    "df['processed'] = answers\n",
    "df.to_csv('data/서울월세 형태소처리완료.tsv', index=False)"
   ]
  },
  {
   "cell_type": "markdown",
   "metadata": {},
   "source": [
    "- 데이터셋 분리"
   ]
  },
  {
   "cell_type": "code",
   "execution_count": 14,
   "metadata": {},
   "outputs": [
    {
     "ename": "AttributeError",
     "evalue": "'DataFrame' object has no attribute 'score'",
     "output_type": "error",
     "traceback": [
      "\u001b[1;31m---------------------------------------------------------------------------\u001b[0m",
      "\u001b[1;31mAttributeError\u001b[0m                            Traceback (most recent call last)",
      "\u001b[1;32md:\\works\\03.MachineLearning\\project\\서울월세정제.ipynb Cell 17\u001b[0m line \u001b[0;36m3\n\u001b[0;32m      <a href='vscode-notebook-cell:/d%3A/works/03.MachineLearning/project/%EC%84%9C%EC%9A%B8%EC%9B%94%EC%84%B8%EC%A0%95%EC%A0%9C.ipynb#X22sZmlsZQ%3D%3D?line=0'>1</a>\u001b[0m \u001b[39mfrom\u001b[39;00m \u001b[39msklearn\u001b[39;00m\u001b[39m.\u001b[39;00m\u001b[39mmodel_selection\u001b[39;00m \u001b[39mimport\u001b[39;00m train_test_split\n\u001b[0;32m      <a href='vscode-notebook-cell:/d%3A/works/03.MachineLearning/project/%EC%84%9C%EC%9A%B8%EC%9B%94%EC%84%B8%EC%A0%95%EC%A0%9C.ipynb#X22sZmlsZQ%3D%3D?line=1'>2</a>\u001b[0m X_train, X_test, y_train, y_test \u001b[39m=\u001b[39m train_test_split(\n\u001b[1;32m----> <a href='vscode-notebook-cell:/d%3A/works/03.MachineLearning/project/%EC%84%9C%EC%9A%B8%EC%9B%94%EC%84%B8%EC%A0%95%EC%A0%9C.ipynb#X22sZmlsZQ%3D%3D?line=2'>3</a>\u001b[0m     answers, df\u001b[39m.\u001b[39mscore\u001b[39m.\u001b[39mvalues, stratify\u001b[39m=\u001b[39mdf\u001b[39m.\u001b[39mscore\u001b[39m.\u001b[39mvalues, random_state\u001b[39m=\u001b[39m\u001b[39m2023\u001b[39m\n\u001b[0;32m      <a href='vscode-notebook-cell:/d%3A/works/03.MachineLearning/project/%EC%84%9C%EC%9A%B8%EC%9B%94%EC%84%B8%EC%A0%95%EC%A0%9C.ipynb#X22sZmlsZQ%3D%3D?line=3'>4</a>\u001b[0m )\n",
      "File \u001b[1;32mc:\\Users\\human\\anaconda3\\Lib\\site-packages\\pandas\\core\\generic.py:5902\u001b[0m, in \u001b[0;36mNDFrame.__getattr__\u001b[1;34m(self, name)\u001b[0m\n\u001b[0;32m   5895\u001b[0m \u001b[39mif\u001b[39;00m (\n\u001b[0;32m   5896\u001b[0m     name \u001b[39mnot\u001b[39;00m \u001b[39min\u001b[39;00m \u001b[39mself\u001b[39m\u001b[39m.\u001b[39m_internal_names_set\n\u001b[0;32m   5897\u001b[0m     \u001b[39mand\u001b[39;00m name \u001b[39mnot\u001b[39;00m \u001b[39min\u001b[39;00m \u001b[39mself\u001b[39m\u001b[39m.\u001b[39m_metadata\n\u001b[0;32m   5898\u001b[0m     \u001b[39mand\u001b[39;00m name \u001b[39mnot\u001b[39;00m \u001b[39min\u001b[39;00m \u001b[39mself\u001b[39m\u001b[39m.\u001b[39m_accessors\n\u001b[0;32m   5899\u001b[0m     \u001b[39mand\u001b[39;00m \u001b[39mself\u001b[39m\u001b[39m.\u001b[39m_info_axis\u001b[39m.\u001b[39m_can_hold_identifiers_and_holds_name(name)\n\u001b[0;32m   5900\u001b[0m ):\n\u001b[0;32m   5901\u001b[0m     \u001b[39mreturn\u001b[39;00m \u001b[39mself\u001b[39m[name]\n\u001b[1;32m-> 5902\u001b[0m \u001b[39mreturn\u001b[39;00m \u001b[39mobject\u001b[39m\u001b[39m.\u001b[39m\u001b[39m__getattribute__\u001b[39m(\u001b[39mself\u001b[39m, name)\n",
      "\u001b[1;31mAttributeError\u001b[0m: 'DataFrame' object has no attribute 'score'"
     ]
    }
   ],
   "source": [
    "from sklearn.model_selection import train_test_split\n",
    "X_train, X_test, y_train, y_test = train_test_split(\n",
    "    answers, df.score.values, stratify=df.score.values, random_state=2023\n",
    ")"
   ]
  },
  {
   "cell_type": "code",
   "execution_count": null,
   "metadata": {},
   "outputs": [],
   "source": []
  }
 ],
 "metadata": {
  "kernelspec": {
   "display_name": "base",
   "language": "python",
   "name": "python3"
  },
  "language_info": {
   "codemirror_mode": {
    "name": "ipython",
    "version": 3
   },
   "file_extension": ".py",
   "mimetype": "text/x-python",
   "name": "python",
   "nbconvert_exporter": "python",
   "pygments_lexer": "ipython3",
   "version": "3.11.4"
  }
 },
 "nbformat": 4,
 "nbformat_minor": 2
}
