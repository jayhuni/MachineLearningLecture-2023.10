{
 "cells": [
  {
   "cell_type": "code",
   "execution_count": 1,
   "metadata": {},
   "outputs": [
    {
     "name": "stdout",
     "output_type": "stream",
     "text": [
      "CSV 파일이 성공적으로 저장되었습니다.\n"
     ]
    }
   ],
   "source": [
    "import pandas as pd\n",
    "\n",
    "# 대화 시나리오 생성\n",
    "data = {\n",
    "    '유저': [\n",
    "        '안녕하세요! 청년들이 부동산에 대해 궁금해하는 것 같아서요. 어떤 질문을 하시겠어요?',\n",
    "        '부동산 시장에서 청년 투자자를 위한 조언이 있을까요?',\n",
    "        '서울과 지방의 부동산 시장은 어떻게 다를까요?',\n",
    "        '청년들이 아파트를 구매하기에 가장 좋은 시기가 언제인가요?',\n",
    "        '저렴한 주택 단지를 찾는 팁이 있을까요?',\n",
    "        '전세 vs. 월세, 어떤 것이 더 이득일까요?'\n",
    "    ],\n",
    "    '챗봇': [\n",
    "        '안녕하세요! 네, 청년들이 부동산에 대한 궁금증을 해결해 드리겠습니다.',\n",
    "        '청년 투자자를 위한 조언으로는 먼저 장기적인 관점에서 부동산 시장 동향을 파악하고, 지역의 발전 가능성과 향후 인프라 개발 계획을 고려해보세요.',\n",
    "        '서울과 지방의 부동산 시장은 다르게 움직일 수 있습니다. 서울은 경기에 민감하게 반응하고, 지방은 인구 이동이나 지역 특화 산업에 따라 다를 수 있습니다.',\n",
    "        '아파트를 구매하기에 좋은 시기는 경기 변동이 적은 안정적인 시기이거나, 정부의 부동산 정책에 따라 달라질 수 있습니다.',\n",
    "        '저렴한 주택을 찾으려면 신규 개발이나 재개발 중인 지역을 살펴보고, 지방의 중소도시 등을 고려해보세요. 또한 부동산 중개사나 온라인 부동산 플랫폼을 활용할 수 있습니다.',\n",
    "        '전세와 월세는 각각 장단점이 있습니다. 전세는 초기 비용이 높지만 장기적으로는 절약이 가능하며, 월세는 초기 부담이 적지만 장기적으로는 더 많은 비용이 들 수 있습니다. 개인의 상황에 맞게 선택하세요.'\n",
    "    ]\n",
    "}\n",
    "\n",
    "# 데이터 프레임 생성\n",
    "df = pd.DataFrame(data)\n",
    "\n",
    "# CSV 파일로 저장\n",
    "df.to_csv('data/부동산_챗봇_대화.csv', index=False, encoding='utf-8')\n",
    "\n",
    "# 파일 저장 확인\n",
    "print(\"CSV 파일이 성공적으로 저장되었습니다.\")"
   ]
  },
  {
   "cell_type": "code",
   "execution_count": null,
   "metadata": {},
   "outputs": [],
   "source": []
  }
 ],
 "metadata": {
  "kernelspec": {
   "display_name": "base",
   "language": "python",
   "name": "python3"
  },
  "language_info": {
   "codemirror_mode": {
    "name": "ipython",
    "version": 3
   },
   "file_extension": ".py",
   "mimetype": "text/x-python",
   "name": "python",
   "nbconvert_exporter": "python",
   "pygments_lexer": "ipython3",
   "version": "3.11.4"
  }
 },
 "nbformat": 4,
 "nbformat_minor": 2
}
