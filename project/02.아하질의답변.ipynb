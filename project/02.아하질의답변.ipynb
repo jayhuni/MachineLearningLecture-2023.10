{
 "cells": [
  {
   "cell_type": "code",
   "execution_count": 791,
   "metadata": {},
   "outputs": [],
   "source": [
    "import time\n",
    "from selenium import webdriver\n",
    "from selenium.webdriver.common.by import By\n",
    "from bs4 import BeautifulSoup\n",
    "from urllib.parse import quote\n",
    "from tqdm import tqdm\n",
    "import requests\n",
    "import math\n",
    "from selenium.webdriver.common.keys import Keys\n",
    "import pandas as pd "
   ]
  },
  {
   "cell_type": "code",
   "execution_count": 792,
   "metadata": {},
   "outputs": [],
   "source": [
    "base_url = f'https://www.a-ha.io'\n",
    "main_url = f'https://www.a-ha.io/search/%EB%B6%80%EB%8F%99%EC%82%B0%20%ED%8C%81'\n",
    "driver = webdriver.Chrome()\n",
    "driver.get(main_url)\n"
   ]
  },
  {
   "cell_type": "code",
   "execution_count": 793,
   "metadata": {},
   "outputs": [],
   "source": [
    "# 파업창 닫기\n",
    "driver.find_element(By.XPATH, '//*[@id=\"__layout\"]/div/div[1]/div[10]/div[1]/div/div/div/div[4]/div[2]/button').click()"
   ]
  },
  {
   "cell_type": "code",
   "execution_count": 794,
   "metadata": {},
   "outputs": [],
   "source": [
    "max_try = 30\n",
    "for _ in range(max_try):\n",
    "    more_btn = driver.find_element(By.CSS_SELECTOR, '.more10').click()\n",
    "    time.sleep(1)"
   ]
  },
  {
   "cell_type": "code",
   "execution_count": 795,
   "metadata": {},
   "outputs": [],
   "source": [
    "soup = BeautifulSoup(driver.page_source, 'html.parser')"
   ]
  },
  {
   "cell_type": "code",
   "execution_count": 796,
   "metadata": {},
   "outputs": [
    {
     "data": {
      "text/plain": [
       "311"
      ]
     },
     "execution_count": 796,
     "metadata": {},
     "output_type": "execute_result"
    }
   ],
   "source": [
    "divs = soup.select('.box.tw-bg-transparent.min-height > div')\n",
    "len(divs)"
   ]
  },
  {
   "cell_type": "code",
   "execution_count": 797,
   "metadata": {},
   "outputs": [
    {
     "data": {
      "text/plain": [
       "'/questions/4533cd415d92bf728148a070ae17e366?status=waiting,ready,outdated&order=recent&aha_term=%EB%B6%80%EB%8F%99%EC%82%B0%20%ED%8C%81'"
      ]
     },
     "execution_count": 797,
     "metadata": {},
     "output_type": "execute_result"
    }
   ],
   "source": [
    "div = divs[0]\n",
    "sub_href = div.select_one('.a-card__header > a')['href']\n",
    "sub_href"
   ]
  },
  {
   "cell_type": "code",
   "execution_count": 798,
   "metadata": {},
   "outputs": [
    {
     "ename": "TypeError",
     "evalue": "'NoneType' object is not subscriptable",
     "output_type": "error",
     "traceback": [
      "\u001b[1;31m---------------------------------------------------------------------------\u001b[0m",
      "\u001b[1;31mTypeError\u001b[0m                                 Traceback (most recent call last)",
      "\u001b[1;32md:\\works\\03.MachineLearning\\project\\02.아하질의답변.ipynb Cell 8\u001b[0m line \u001b[0;36m3\n\u001b[0;32m      <a href='vscode-notebook-cell:/d%3A/works/03.MachineLearning/project/02.%EC%95%84%ED%95%98%EC%A7%88%EC%9D%98%EB%8B%B5%EB%B3%80.ipynb#X32sZmlsZQ%3D%3D?line=0'>1</a>\u001b[0m data \u001b[39m=\u001b[39m []\n\u001b[0;32m      <a href='vscode-notebook-cell:/d%3A/works/03.MachineLearning/project/02.%EC%95%84%ED%95%98%EC%A7%88%EC%9D%98%EB%8B%B5%EB%B3%80.ipynb#X32sZmlsZQ%3D%3D?line=1'>2</a>\u001b[0m \u001b[39mfor\u001b[39;00m div \u001b[39min\u001b[39;00m divs:\n\u001b[1;32m----> <a href='vscode-notebook-cell:/d%3A/works/03.MachineLearning/project/02.%EC%95%84%ED%95%98%EC%A7%88%EC%9D%98%EB%8B%B5%EB%B3%80.ipynb#X32sZmlsZQ%3D%3D?line=2'>3</a>\u001b[0m     sub_href \u001b[39m=\u001b[39m div\u001b[39m.\u001b[39mselect_one(\u001b[39m'\u001b[39m\u001b[39m.a-card__header > a\u001b[39m\u001b[39m'\u001b[39m)[\u001b[39m'\u001b[39m\u001b[39mhref\u001b[39m\u001b[39m'\u001b[39m]\n\u001b[0;32m      <a href='vscode-notebook-cell:/d%3A/works/03.MachineLearning/project/02.%EC%95%84%ED%95%98%EC%A7%88%EC%9D%98%EB%8B%B5%EB%B3%80.ipynb#X32sZmlsZQ%3D%3D?line=3'>4</a>\u001b[0m     sub_url \u001b[39m=\u001b[39m base_url \u001b[39m+\u001b[39m sub_href\n\u001b[0;32m      <a href='vscode-notebook-cell:/d%3A/works/03.MachineLearning/project/02.%EC%95%84%ED%95%98%EC%A7%88%EC%9D%98%EB%8B%B5%EB%B3%80.ipynb#X32sZmlsZQ%3D%3D?line=4'>5</a>\u001b[0m     sub_res \u001b[39m=\u001b[39m requests\u001b[39m.\u001b[39mget(sub_url)\n",
      "\u001b[1;31mTypeError\u001b[0m: 'NoneType' object is not subscriptable"
     ]
    }
   ],
   "source": [
    "data = []\n",
    "for div in divs:\n",
    "    sub_href = div.select_one('.a-card__header > a')['href']\n",
    "    sub_url = base_url + sub_href\n",
    "    sub_res = requests.get(sub_url)\n",
    "    sub_soup = BeautifulSoup(sub_res.text, 'html.parser')\n",
    "    \n",
    "    driver.execute_script(\"window.open('');\")\n",
    "    driver.switch_to.window(driver.window_handles[1])\n",
    "    driver.get(sub_url)\n",
    "    time.sleep(2)\n",
    "    \n",
    "    sub_soup2 = BeautifulSoup(driver.page_source, 'html.parser')\n",
    "    qs = sub_soup2.select('.a-card.card-question > .a-card__main > .a-card__content > .editor__content > p')\n",
    "    question = ''\n",
    "    for q in qs:\n",
    "        text = q.get_text().strip()\n",
    "        if text == '\\u200b' or text == '':\n",
    "            continue\n",
    "        question += text\n",
    "    \n",
    "    \n",
    "    ans = sub_soup2.select('.a-card.cardAnswer > .a-card__main > .a-card__content > .editor__content > p')\n",
    "    answer = ''\n",
    "    for a in ans:\n",
    "        text = a.get_text().strip()\n",
    "        if text == '\\u200b' or text == '':\n",
    "            continue\n",
    "        answer += text\n",
    "        \n",
    "    driver.close()\n",
    "    time.sleep(2)\n",
    "    driver.switch_to.window(driver.window_handles[-1])\n",
    "    time.sleep(2)\n",
    "    \n",
    "    data.append({'구분': '팁', '질문': question, '답변': answer})\n",
    "\n",
    "driver.close()\n",
    "    "
   ]
  },
  {
   "cell_type": "code",
   "execution_count": 803,
   "metadata": {},
   "outputs": [
    {
     "data": {
      "text/html": [
       "<div>\n",
       "<style scoped>\n",
       "    .dataframe tbody tr th:only-of-type {\n",
       "        vertical-align: middle;\n",
       "    }\n",
       "\n",
       "    .dataframe tbody tr th {\n",
       "        vertical-align: top;\n",
       "    }\n",
       "\n",
       "    .dataframe thead th {\n",
       "        text-align: right;\n",
       "    }\n",
       "</style>\n",
       "<table border=\"1\" class=\"dataframe\">\n",
       "  <thead>\n",
       "    <tr style=\"text-align: right;\">\n",
       "      <th></th>\n",
       "      <th>구분</th>\n",
       "      <th>질문</th>\n",
       "      <th>답변</th>\n",
       "    </tr>\n",
       "  </thead>\n",
       "  <tbody>\n",
       "    <tr>\n",
       "      <th>0</th>\n",
       "      <td>팁</td>\n",
       "      <td>아파트를 매도할때 집 앞에 부동산에만 얘기를 할지동네 부동산에 전부다 얘기를 할지 ...</td>\n",
       "      <td>안녕하세요. 한결같은고양이32입니다.최소3군데가봐야정확한가격이나와요부동산중계소마다조...</td>\n",
       "    </tr>\n",
       "    <tr>\n",
       "      <th>1</th>\n",
       "      <td>팁</td>\n",
       "      <td>제꿈이 부동산을 운영하면서 매매도 열심히해드리고 돈도 많이벌고싶은 22살입니다 부동...</td>\n",
       "      <td>안녕하세요. 박어상 공인중개사입니다.부동산을 운영하고 돈을 버는 것은 나이와는 전혀...</td>\n",
       "    </tr>\n",
       "    <tr>\n",
       "      <th>2</th>\n",
       "      <td>팁</td>\n",
       "      <td>사정이 좋지않아서 지금 매수세가 없지만 집을 팔아야하네요ㅜㅜ근처부동산에는 전화돌려보...</td>\n",
       "      <td>안녕하세요. 홍성택 공인중개사입니다.지금 부동산시장이 얼어붙었죠.다들 관망중인듯요....</td>\n",
       "    </tr>\n",
       "    <tr>\n",
       "      <th>3</th>\n",
       "      <td>팁</td>\n",
       "      <td>곧 계약이 다되가서 월세 방을 구해야하는데요이 집 구할때도 부동산 사람이 의도적으로...</td>\n",
       "      <td>안녕하세요. 서주환 공인중개사입니다.여러군데 공인중개사를 통해 다양한 매물을 확인 ...</td>\n",
       "    </tr>\n",
       "    <tr>\n",
       "      <th>4</th>\n",
       "      <td>팁</td>\n",
       "      <td>반려견이 2마리있는데 부동산을 하루에 15곳도 가봤지만하나같이 집이 없다 또는 집주...</td>\n",
       "      <td>안녕하세요. 양정섭 공인중개사입니다.안타깝지만 집주인이 반려견을 허락해야지 계약이 ...</td>\n",
       "    </tr>\n",
       "    <tr>\n",
       "      <th>...</th>\n",
       "      <td>...</td>\n",
       "      <td>...</td>\n",
       "      <td>...</td>\n",
       "    </tr>\n",
       "    <tr>\n",
       "      <th>305</th>\n",
       "      <td>팁</td>\n",
       "      <td>이번에 제가 부동산을 직거래 할려고 하는데 계약서는 어떻게 써야할 지 몰라서 부동산...</td>\n",
       "      <td>안녕하세요. 김인혜 공인중개사입니다.공인중개사가 거래성과 없이 대필의뢰 받은 경우,...</td>\n",
       "    </tr>\n",
       "    <tr>\n",
       "      <th>306</th>\n",
       "      <td>팁</td>\n",
       "      <td>일반음식점 운영중인데 계약기간 만료전 인수자를 구해 나가려고 합니다. 제가 직접 인...</td>\n",
       "      <td>안녕하세요. 유창효 공인중개사입니다.1, 계약만료전 중도해지라면 중개보수에 대해서는...</td>\n",
       "    </tr>\n",
       "    <tr>\n",
       "      <th>307</th>\n",
       "      <td>팁</td>\n",
       "      <td>안녕하세요. 수리수리마하수리12345입니다.최근에 부동산 경매에 관심이 있어 이것저...</td>\n",
       "      <td>안녕하세요. 김인혜 공인중개사입니다.경매에서 명도이전신청이라고 하면 명도소송 전에 ...</td>\n",
       "    </tr>\n",
       "    <tr>\n",
       "      <th>308</th>\n",
       "      <td>팁</td>\n",
       "      <td>아파트나 부동산같은것을 취득한 후에는 취등록세를 언제까지 납부를해야되는건가요??등기...</td>\n",
       "      <td>안녕하세요. 김인혜 공인중개사입니다.그 취득한 날부터 60일 이내에 그 과세표준에 ...</td>\n",
       "    </tr>\n",
       "    <tr>\n",
       "      <th>309</th>\n",
       "      <td>팁</td>\n",
       "      <td>최근 2년정도 거래없고 3-4년 전에 7-8천에 거래됐었고 공시지가는 4천4백정도인...</td>\n",
       "      <td>안녕하세요. 자성세무회계 김성은 세무사입니다.먼저 할머니께 증여받을 때에는 직계존속...</td>\n",
       "    </tr>\n",
       "  </tbody>\n",
       "</table>\n",
       "<p>310 rows × 3 columns</p>\n",
       "</div>"
      ],
      "text/plain": [
       "    구분                                                 질문  \\\n",
       "0    팁  아파트를 매도할때 집 앞에 부동산에만 얘기를 할지동네 부동산에 전부다 얘기를 할지 ...   \n",
       "1    팁  제꿈이 부동산을 운영하면서 매매도 열심히해드리고 돈도 많이벌고싶은 22살입니다 부동...   \n",
       "2    팁  사정이 좋지않아서 지금 매수세가 없지만 집을 팔아야하네요ㅜㅜ근처부동산에는 전화돌려보...   \n",
       "3    팁  곧 계약이 다되가서 월세 방을 구해야하는데요이 집 구할때도 부동산 사람이 의도적으로...   \n",
       "4    팁  반려견이 2마리있는데 부동산을 하루에 15곳도 가봤지만하나같이 집이 없다 또는 집주...   \n",
       "..  ..                                                ...   \n",
       "305  팁  이번에 제가 부동산을 직거래 할려고 하는데 계약서는 어떻게 써야할 지 몰라서 부동산...   \n",
       "306  팁  일반음식점 운영중인데 계약기간 만료전 인수자를 구해 나가려고 합니다. 제가 직접 인...   \n",
       "307  팁  안녕하세요. 수리수리마하수리12345입니다.최근에 부동산 경매에 관심이 있어 이것저...   \n",
       "308  팁  아파트나 부동산같은것을 취득한 후에는 취등록세를 언제까지 납부를해야되는건가요??등기...   \n",
       "309  팁  최근 2년정도 거래없고 3-4년 전에 7-8천에 거래됐었고 공시지가는 4천4백정도인...   \n",
       "\n",
       "                                                    답변  \n",
       "0    안녕하세요. 한결같은고양이32입니다.최소3군데가봐야정확한가격이나와요부동산중계소마다조...  \n",
       "1    안녕하세요. 박어상 공인중개사입니다.부동산을 운영하고 돈을 버는 것은 나이와는 전혀...  \n",
       "2    안녕하세요. 홍성택 공인중개사입니다.지금 부동산시장이 얼어붙었죠.다들 관망중인듯요....  \n",
       "3    안녕하세요. 서주환 공인중개사입니다.여러군데 공인중개사를 통해 다양한 매물을 확인 ...  \n",
       "4    안녕하세요. 양정섭 공인중개사입니다.안타깝지만 집주인이 반려견을 허락해야지 계약이 ...  \n",
       "..                                                 ...  \n",
       "305  안녕하세요. 김인혜 공인중개사입니다.공인중개사가 거래성과 없이 대필의뢰 받은 경우,...  \n",
       "306  안녕하세요. 유창효 공인중개사입니다.1, 계약만료전 중도해지라면 중개보수에 대해서는...  \n",
       "307  안녕하세요. 김인혜 공인중개사입니다.경매에서 명도이전신청이라고 하면 명도소송 전에 ...  \n",
       "308  안녕하세요. 김인혜 공인중개사입니다.그 취득한 날부터 60일 이내에 그 과세표준에 ...  \n",
       "309  안녕하세요. 자성세무회계 김성은 세무사입니다.먼저 할머니께 증여받을 때에는 직계존속...  \n",
       "\n",
       "[310 rows x 3 columns]"
      ]
     },
     "execution_count": 803,
     "metadata": {},
     "output_type": "execute_result"
    }
   ],
   "source": [
    "import pandas as pd \n",
    "df = pd.DataFrame(data)\n",
    "df"
   ]
  },
  {
   "cell_type": "code",
   "execution_count": 802,
   "metadata": {},
   "outputs": [],
   "source": [
    "df.to_csv('data/팁309.csv')"
   ]
  },
  {
   "cell_type": "code",
   "execution_count": null,
   "metadata": {},
   "outputs": [],
   "source": []
  }
 ],
 "metadata": {
  "kernelspec": {
   "display_name": "base",
   "language": "python",
   "name": "python3"
  },
  "language_info": {
   "codemirror_mode": {
    "name": "ipython",
    "version": 3
   },
   "file_extension": ".py",
   "mimetype": "text/x-python",
   "name": "python",
   "nbconvert_exporter": "python",
   "pygments_lexer": "ipython3",
   "version": "3.11.4"
  }
 },
 "nbformat": 4,
 "nbformat_minor": 2
}
