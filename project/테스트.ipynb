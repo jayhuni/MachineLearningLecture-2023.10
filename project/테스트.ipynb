{
 "cells": [
  {
   "cell_type": "code",
   "execution_count": 1,
   "metadata": {},
   "outputs": [],
   "source": [
    "import time\n",
    "from selenium import webdriver\n",
    "from selenium.webdriver.common.by import By\n",
    "from bs4 import BeautifulSoup\n",
    "from urllib.parse import quote\n",
    "from tqdm import tqdm\n",
    "import requests\n",
    "import math\n",
    "from selenium.webdriver.common.keys import Keys\n",
    "import pandas as pd "
   ]
  },
  {
   "cell_type": "code",
   "execution_count": 2,
   "metadata": {},
   "outputs": [],
   "source": [
    "base_url = f'https://www.a-ha.io'\n",
    "main_url = f'https://www.a-ha.io/search/%EB%B6%80%EB%8F%99%EC%82%B0%20%ED%8C%81'\n",
    "driver = webdriver.Chrome()\n",
    "driver.get(main_url)"
   ]
  },
  {
   "cell_type": "code",
   "execution_count": 3,
   "metadata": {},
   "outputs": [],
   "source": [
    "# 파업창 닫기\n",
    "driver.find_element(By.XPATH, '//*[@id=\"__layout\"]/div/div[1]/div[10]/div[1]/div/div/div/div[4]/div[2]/button').click()"
   ]
  },
  {
   "cell_type": "code",
   "execution_count": 4,
   "metadata": {},
   "outputs": [
    {
     "data": {
      "text/plain": [
       "'/questions/4533cd415d92bf728148a070ae17e366?status=waiting,ready,outdated&order=recent&aha_term=%EB%B6%80%EB%8F%99%EC%82%B0%20%ED%8C%81'"
      ]
     },
     "execution_count": 4,
     "metadata": {},
     "output_type": "execute_result"
    }
   ],
   "source": [
    "soup = BeautifulSoup(driver.page_source, 'html.parser')\n",
    "divs = soup.select('.box.tw-bg-transparent.min-height > div')\n",
    "len(divs)\n",
    "div = divs[0]\n",
    "sub_href = div.select_one('.a-card__header > a')['href']\n",
    "sub_href"
   ]
  },
  {
   "cell_type": "code",
   "execution_count": 5,
   "metadata": {},
   "outputs": [
    {
     "ename": "TypeError",
     "evalue": "'NoneType' object is not subscriptable",
     "output_type": "error",
     "traceback": [
      "\u001b[1;31m---------------------------------------------------------------------------\u001b[0m",
      "\u001b[1;31mTypeError\u001b[0m                                 Traceback (most recent call last)",
      "\u001b[1;32md:\\works\\03.MachineLearning\\project\\테스트.ipynb Cell 5\u001b[0m line \u001b[0;36m3\n\u001b[0;32m      <a href='vscode-notebook-cell:/d%3A/works/03.MachineLearning/project/%ED%85%8C%EC%8A%A4%ED%8A%B8.ipynb#W0sZmlsZQ%3D%3D?line=0'>1</a>\u001b[0m data \u001b[39m=\u001b[39m []\n\u001b[0;32m      <a href='vscode-notebook-cell:/d%3A/works/03.MachineLearning/project/%ED%85%8C%EC%8A%A4%ED%8A%B8.ipynb#W0sZmlsZQ%3D%3D?line=1'>2</a>\u001b[0m \u001b[39mfor\u001b[39;00m div \u001b[39min\u001b[39;00m divs:\n\u001b[1;32m----> <a href='vscode-notebook-cell:/d%3A/works/03.MachineLearning/project/%ED%85%8C%EC%8A%A4%ED%8A%B8.ipynb#W0sZmlsZQ%3D%3D?line=2'>3</a>\u001b[0m     sub_href \u001b[39m=\u001b[39m div\u001b[39m.\u001b[39mselect_one(\u001b[39m'\u001b[39m\u001b[39m.a-card__header > a\u001b[39m\u001b[39m'\u001b[39m)[\u001b[39m'\u001b[39m\u001b[39mhref\u001b[39m\u001b[39m'\u001b[39m]\n\u001b[0;32m      <a href='vscode-notebook-cell:/d%3A/works/03.MachineLearning/project/%ED%85%8C%EC%8A%A4%ED%8A%B8.ipynb#W0sZmlsZQ%3D%3D?line=3'>4</a>\u001b[0m     sub_url \u001b[39m=\u001b[39m base_url \u001b[39m+\u001b[39m sub_href\n\u001b[0;32m      <a href='vscode-notebook-cell:/d%3A/works/03.MachineLearning/project/%ED%85%8C%EC%8A%A4%ED%8A%B8.ipynb#W0sZmlsZQ%3D%3D?line=4'>5</a>\u001b[0m     sub_res \u001b[39m=\u001b[39m requests\u001b[39m.\u001b[39mget(sub_url)\n",
      "\u001b[1;31mTypeError\u001b[0m: 'NoneType' object is not subscriptable"
     ]
    }
   ],
   "source": [
    "data = []\n",
    "for div in divs:\n",
    "    sub_href = div.select_one('.a-card__header > a')['href']\n",
    "    sub_url = base_url + sub_href\n",
    "    sub_res = requests.get(sub_url)\n",
    "    sub_soup = BeautifulSoup(sub_res.text, 'html.parser')\n",
    "    \n",
    "    driver.execute_script(\"window.open('');\")\n",
    "    driver.switch_to.window(driver.window_handles[1])\n",
    "    driver.get(sub_url)\n",
    "    time.sleep(2)\n",
    "    \n",
    "    sub_soup2 = BeautifulSoup(driver.page_source, 'html.parser')\n",
    "    qs = sub_soup2.select('.a-card.card-question > .a-card__main > .a-card__content > .editor__content > p')\n",
    "    question = ''\n",
    "    for q in qs:\n",
    "        text = q.get_text().strip()\n",
    "        if text == '\\u200b' or text == '':\n",
    "            continue\n",
    "        question += text\n",
    "    \n",
    "    \n",
    "    ans = sub_soup2.select('.a-card.cardAnswer')[0]\n",
    "    ans2 = ans.select('.a-card__main > .a-card__content > .editor__content > p')\n",
    "    answer = ''\n",
    "    for a in ans2:\n",
    "        text = a.get_text().strip()\n",
    "        if text == '\\u200b' or text == '':\n",
    "            continue\n",
    "        answer += text\n",
    "        \n",
    "    driver.close()\n",
    "    time.sleep(2)\n",
    "    driver.switch_to.window(driver.window_handles[-1])\n",
    "    time.sleep(2)\n",
    "    \n",
    "    data.append({'구분': '팁', '질문': question, '답변': answer})\n",
    "\n",
    "driver.close()\n",
    "    "
   ]
  },
  {
   "cell_type": "code",
   "execution_count": 6,
   "metadata": {},
   "outputs": [
    {
     "data": {
      "text/html": [
       "<div>\n",
       "<style scoped>\n",
       "    .dataframe tbody tr th:only-of-type {\n",
       "        vertical-align: middle;\n",
       "    }\n",
       "\n",
       "    .dataframe tbody tr th {\n",
       "        vertical-align: top;\n",
       "    }\n",
       "\n",
       "    .dataframe thead th {\n",
       "        text-align: right;\n",
       "    }\n",
       "</style>\n",
       "<table border=\"1\" class=\"dataframe\">\n",
       "  <thead>\n",
       "    <tr style=\"text-align: right;\">\n",
       "      <th></th>\n",
       "      <th>구분</th>\n",
       "      <th>질문</th>\n",
       "      <th>답변</th>\n",
       "    </tr>\n",
       "  </thead>\n",
       "  <tbody>\n",
       "    <tr>\n",
       "      <th>0</th>\n",
       "      <td>팁</td>\n",
       "      <td>아파트를 매도할때 집 앞에 부동산에만 얘기를 할지동네 부동산에 전부다 얘기를 할지 ...</td>\n",
       "      <td>안녕하세요. 한결같은고양이32입니다.최소3군데가봐야정확한가격이나와요부동산중계소마다조...</td>\n",
       "    </tr>\n",
       "    <tr>\n",
       "      <th>1</th>\n",
       "      <td>팁</td>\n",
       "      <td>제꿈이 부동산을 운영하면서 매매도 열심히해드리고 돈도 많이벌고싶은 22살입니다 부동...</td>\n",
       "      <td>안녕하세요. 박어상 공인중개사입니다.부동산을 운영하고 돈을 버는 것은 나이와는 전혀...</td>\n",
       "    </tr>\n",
       "    <tr>\n",
       "      <th>2</th>\n",
       "      <td>팁</td>\n",
       "      <td>사정이 좋지않아서 지금 매수세가 없지만 집을 팔아야하네요ㅜㅜ근처부동산에는 전화돌려보...</td>\n",
       "      <td>안녕하세요. 홍성택 공인중개사입니다.지금 부동산시장이 얼어붙었죠.다들 관망중인듯요....</td>\n",
       "    </tr>\n",
       "    <tr>\n",
       "      <th>3</th>\n",
       "      <td>팁</td>\n",
       "      <td>곧 계약이 다되가서 월세 방을 구해야하는데요이 집 구할때도 부동산 사람이 의도적으로...</td>\n",
       "      <td>안녕하세요. 서주환 공인중개사입니다.여러군데 공인중개사를 통해 다양한 매물을 확인 ...</td>\n",
       "    </tr>\n",
       "    <tr>\n",
       "      <th>4</th>\n",
       "      <td>팁</td>\n",
       "      <td>반려견이 2마리있는데 부동산을 하루에 15곳도 가봤지만하나같이 집이 없다 또는 집주...</td>\n",
       "      <td>안녕하세요. 양정섭 공인중개사입니다.안타깝지만 집주인이 반려견을 허락해야지 계약이 ...</td>\n",
       "    </tr>\n",
       "    <tr>\n",
       "      <th>5</th>\n",
       "      <td>팁</td>\n",
       "      <td>월세살면서 월세나가는게 아까워 전세자금을 마련하기위해 저축을 차곡차곡 쌓고 있는데요...</td>\n",
       "      <td>안녕하세요. 주영민 공인중개사입니다.요즘 이런 질문을 많이 받는 것 보면 다들 걱정...</td>\n",
       "    </tr>\n",
       "    <tr>\n",
       "      <th>6</th>\n",
       "      <td>팁</td>\n",
       "      <td>부동산 경매를 시작할려고 하는 회사원입니다 시작할려고하니 두려움이 눈앞을 가립니다~...</td>\n",
       "      <td>안녕하세요. \"부동산코칭 박샘\" 박진혁 공인중개사입니다.부동산경매를 잘 할수 있는 ...</td>\n",
       "    </tr>\n",
       "    <tr>\n",
       "      <th>7</th>\n",
       "      <td>팁</td>\n",
       "      <td>제가 이번에 부동산 자격증 시험을 준비한다고 교재랑 모의고사 문제집을 사려니깐 가격...</td>\n",
       "      <td>안녕하세요. 너그러운코뿔소140입니다.인터넷 서점 에서 구매할 때 중고를 살 수 있...</td>\n",
       "    </tr>\n",
       "    <tr>\n",
       "      <th>8</th>\n",
       "      <td>팁</td>\n",
       "      <td>종합소득세가 너무 많이 나오는데요 절세하는 팁좀 알려주세요연매출 4억정도 되는 회산...</td>\n",
       "      <td>안녕하세요? 아하(Aha) 세무·회계 분야 전문가 문용현세무사입니다. 질문하신 내용...</td>\n",
       "    </tr>\n",
       "    <tr>\n",
       "      <th>9</th>\n",
       "      <td>팁</td>\n",
       "      <td>안녕하세요.이번에 부동산 매수하여 곧 잔금 예정인 사람입니다. 은행 대출이 있어서 ...</td>\n",
       "      <td>안녕하세요. 강한나팔새38입니다.어플을 이용해서 서비스를 받는 것 더 나아보입니다....</td>\n",
       "    </tr>\n",
       "  </tbody>\n",
       "</table>\n",
       "</div>"
      ],
      "text/plain": [
       "  구분                                                 질문  \\\n",
       "0  팁  아파트를 매도할때 집 앞에 부동산에만 얘기를 할지동네 부동산에 전부다 얘기를 할지 ...   \n",
       "1  팁  제꿈이 부동산을 운영하면서 매매도 열심히해드리고 돈도 많이벌고싶은 22살입니다 부동...   \n",
       "2  팁  사정이 좋지않아서 지금 매수세가 없지만 집을 팔아야하네요ㅜㅜ근처부동산에는 전화돌려보...   \n",
       "3  팁  곧 계약이 다되가서 월세 방을 구해야하는데요이 집 구할때도 부동산 사람이 의도적으로...   \n",
       "4  팁  반려견이 2마리있는데 부동산을 하루에 15곳도 가봤지만하나같이 집이 없다 또는 집주...   \n",
       "5  팁  월세살면서 월세나가는게 아까워 전세자금을 마련하기위해 저축을 차곡차곡 쌓고 있는데요...   \n",
       "6  팁  부동산 경매를 시작할려고 하는 회사원입니다 시작할려고하니 두려움이 눈앞을 가립니다~...   \n",
       "7  팁  제가 이번에 부동산 자격증 시험을 준비한다고 교재랑 모의고사 문제집을 사려니깐 가격...   \n",
       "8  팁  종합소득세가 너무 많이 나오는데요 절세하는 팁좀 알려주세요연매출 4억정도 되는 회산...   \n",
       "9  팁  안녕하세요.이번에 부동산 매수하여 곧 잔금 예정인 사람입니다. 은행 대출이 있어서 ...   \n",
       "\n",
       "                                                  답변  \n",
       "0  안녕하세요. 한결같은고양이32입니다.최소3군데가봐야정확한가격이나와요부동산중계소마다조...  \n",
       "1  안녕하세요. 박어상 공인중개사입니다.부동산을 운영하고 돈을 버는 것은 나이와는 전혀...  \n",
       "2  안녕하세요. 홍성택 공인중개사입니다.지금 부동산시장이 얼어붙었죠.다들 관망중인듯요....  \n",
       "3  안녕하세요. 서주환 공인중개사입니다.여러군데 공인중개사를 통해 다양한 매물을 확인 ...  \n",
       "4  안녕하세요. 양정섭 공인중개사입니다.안타깝지만 집주인이 반려견을 허락해야지 계약이 ...  \n",
       "5  안녕하세요. 주영민 공인중개사입니다.요즘 이런 질문을 많이 받는 것 보면 다들 걱정...  \n",
       "6  안녕하세요. \"부동산코칭 박샘\" 박진혁 공인중개사입니다.부동산경매를 잘 할수 있는 ...  \n",
       "7  안녕하세요. 너그러운코뿔소140입니다.인터넷 서점 에서 구매할 때 중고를 살 수 있...  \n",
       "8  안녕하세요? 아하(Aha) 세무·회계 분야 전문가 문용현세무사입니다. 질문하신 내용...  \n",
       "9  안녕하세요. 강한나팔새38입니다.어플을 이용해서 서비스를 받는 것 더 나아보입니다....  "
      ]
     },
     "execution_count": 6,
     "metadata": {},
     "output_type": "execute_result"
    }
   ],
   "source": [
    "df = pd.DataFrame(data)\n",
    "df"
   ]
  },
  {
   "cell_type": "code",
   "execution_count": 7,
   "metadata": {},
   "outputs": [],
   "source": [
    "df.to_csv('data/팁309_3.csv')"
   ]
  },
  {
   "cell_type": "code",
   "execution_count": null,
   "metadata": {},
   "outputs": [],
   "source": []
  }
 ],
 "metadata": {
  "kernelspec": {
   "display_name": "base",
   "language": "python",
   "name": "python3"
  },
  "language_info": {
   "codemirror_mode": {
    "name": "ipython",
    "version": 3
   },
   "file_extension": ".py",
   "mimetype": "text/x-python",
   "name": "python",
   "nbconvert_exporter": "python",
   "pygments_lexer": "ipython3",
   "version": "3.11.4"
  }
 },
 "nbformat": 4,
 "nbformat_minor": 2
}
